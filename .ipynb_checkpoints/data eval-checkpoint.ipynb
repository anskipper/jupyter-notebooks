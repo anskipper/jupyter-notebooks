{
 "cells": [
  {
   "cell_type": "code",
   "execution_count": 232,
   "metadata": {},
   "outputs": [],
   "source": [
    "import pickle\n",
    "\n",
    "homeDir = 'P:\\\\PW-WATER SERVICES\\\\TECHNICAL SERVICES\\\\Anna'\n",
    "pickleLocation = homeDir + '\\\\2018\\\\Python Objects\\\\'"
   ]
  },
  {
   "cell_type": "code",
   "execution_count": 233,
   "metadata": {},
   "outputs": [],
   "source": [
    "with open(pickleLocation + 'flowDict.pickle', 'rb') as handle:\n",
    "    flowDict = pickle.load(handle)\n"
   ]
  },
  {
   "cell_type": "code",
   "execution_count": 234,
   "metadata": {},
   "outputs": [
    {
     "data": {
      "image/png": "[encoded data removed]",
      "text/plain": [
       "<Figure size 144x774 with 1 Axes>"
      ]
     },
     "metadata": {
      "needs_background": "light"
     },
     "output_type": "display_data"
    }
   ],
   "source": [
    "import matplotlib\n",
    "import matplotlib.pyplot as plt\n",
    "import numpy as np\n",
    "\n",
    "col = 'Q (MGD)'\n",
    "\n",
    "percentRunning = []\n",
    "for fm in flowDict:\n",
    "    df = flowDict[fm]\n",
    "    percentRunning.append((len(flowDict[fm].index) \n",
    "                        - sum(np.isnan(flowDict[fm][col].values)))\n",
    "                     /len(flowDict[fm].index))\n",
    "\n",
    "font = {'family' : 'DejaVu Sans',\n",
    "        'weight' : 'normal',\n",
    "        'size'   : 10}\n",
    "\n",
    "matplotlib.rc('font', **font)\n",
    "\n",
    "#plt.xticks(range(0,len(newDF.index)))\n",
    "y = range(0,4 * len(percentRunning),4)\n",
    "leftLim = round(0.9 * min(percentRunning),1)\n",
    "xticks = list(np.arange(leftLim,1,0.1))\n",
    "xticks.append(1)\n",
    "fig, ax = plt.subplots(figsize=(2,10.75))\n",
    "ax.plot(percentRunning,\n",
    "       y,\n",
    "        marker = '.',\n",
    "        markersize = 9,\n",
    "        linewidth = 0,\n",
    "        alpha = 0.7,\n",
    "       color = 'xkcd:stormy blue')\n",
    "for xval, yval in zip(percentRunning, y):\n",
    "    ax.plot([0, xval],[yval, yval],\n",
    "           color = 'xkcd:stormy blue')\n",
    "plt.xticks(\n",
    "    ticks = xticks)\n",
    "plt.yticks(\n",
    "    ticks = y, \n",
    "    labels = list(flowDict.keys()))\n",
    "ax.xaxis.grid(True, \n",
    "            linestyle = '-',\n",
    "            which = 'major',\n",
    "            color = 'xkcd:charcoal',\n",
    "            alpha = 0.4)\n",
    "ax.yaxis.grid(True, \n",
    "            linestyle = '-',\n",
    "            which = 'major',\n",
    "            color = 'xkcd:charcoal',\n",
    "            alpha = 0.4)\n",
    "ax.set_xlim(left = leftLim)\n",
    "ax.invert_yaxis()\n",
    "ax.spines['bottom'].set_visible(False)\n",
    "ax.spines['top'].set_visible(False)\n",
    "ax.spines['right'].set_visible(False)\n",
    "ax.spines['left'].set_visible(False)\n",
    "ax.set_xlabel('Uptime')\n",
    "plt.tight_layout()\n",
    "plt.show()"
   ]
  },
  {
   "cell_type": "code",
   "execution_count": 4,
   "metadata": {},
   "outputs": [
    {
     "data": {
      "text/html": [
       "<div>\n",
       "<style scoped>\n",
       "    .dataframe tbody tr th:only-of-type {\n",
       "        vertical-align: middle;\n",
       "    }\n",
       "\n",
       "    .dataframe tbody tr th {\n",
       "        vertical-align: top;\n",
       "    }\n",
       "\n",
       "    .dataframe thead th {\n",
       "        text-align: right;\n",
       "    }\n",
       "</style>\n",
       "<table border=\"1\" class=\"dataframe\">\n",
       "  <thead>\n",
       "    <tr style=\"text-align: right;\">\n",
       "      <th></th>\n",
       "      <th>Rain Gage</th>\n",
       "      <th>Diameter</th>\n",
       "      <th>Linear Feet</th>\n",
       "      <th>Basin Area (Ac)</th>\n",
       "      <th>Basin Footprint (in-mi)</th>\n",
       "      <th>Total Footage (LF)</th>\n",
       "    </tr>\n",
       "    <tr>\n",
       "      <th>Flow Monitor</th>\n",
       "      <th></th>\n",
       "      <th></th>\n",
       "      <th></th>\n",
       "      <th></th>\n",
       "      <th></th>\n",
       "      <th></th>\n",
       "    </tr>\n",
       "  </thead>\n",
       "  <tbody>\n",
       "    <tr>\n",
       "      <th>BC01</th>\n",
       "      <td>BCRG01</td>\n",
       "      <td>42.00</td>\n",
       "      <td>127586.0</td>\n",
       "      <td>1369.06</td>\n",
       "      <td>153.97</td>\n",
       "      <td>56611.0</td>\n",
       "    </tr>\n",
       "    <tr>\n",
       "      <th>BC01A</th>\n",
       "      <td>BCRG02</td>\n",
       "      <td>26.88</td>\n",
       "      <td>NaN</td>\n",
       "      <td>NaN</td>\n",
       "      <td>57.28</td>\n",
       "      <td>19959.0</td>\n",
       "    </tr>\n",
       "    <tr>\n",
       "      <th>BC02</th>\n",
       "      <td>BCRG01</td>\n",
       "      <td>8.25</td>\n",
       "      <td>NaN</td>\n",
       "      <td>265.30</td>\n",
       "      <td>33.79</td>\n",
       "      <td>22305.0</td>\n",
       "    </tr>\n",
       "    <tr>\n",
       "      <th>BC03</th>\n",
       "      <td>BCRG01</td>\n",
       "      <td>15.00</td>\n",
       "      <td>NaN</td>\n",
       "      <td>548.54</td>\n",
       "      <td>85.21</td>\n",
       "      <td>52062.0</td>\n",
       "    </tr>\n",
       "    <tr>\n",
       "      <th>BC05</th>\n",
       "      <td>BCRG01</td>\n",
       "      <td>7.75</td>\n",
       "      <td>NaN</td>\n",
       "      <td>1037.10</td>\n",
       "      <td>129.48</td>\n",
       "      <td>85344.0</td>\n",
       "    </tr>\n",
       "  </tbody>\n",
       "</table>\n",
       "</div>"
      ],
      "text/plain": [
       "             Rain Gage  Diameter  Linear Feet  Basin Area (Ac)  \\\n",
       "Flow Monitor                                                     \n",
       "BC01            BCRG01     42.00     127586.0          1369.06   \n",
       "BC01A           BCRG02     26.88          NaN              NaN   \n",
       "BC02            BCRG01      8.25          NaN           265.30   \n",
       "BC03            BCRG01     15.00          NaN           548.54   \n",
       "BC05            BCRG01      7.75          NaN          1037.10   \n",
       "\n",
       "              Basin Footprint (in-mi)  Total Footage (LF)  \n",
       "Flow Monitor                                               \n",
       "BC01                           153.97             56611.0  \n",
       "BC01A                           57.28             19959.0  \n",
       "BC02                            33.79             22305.0  \n",
       "BC03                            85.21             52062.0  \n",
       "BC05                           129.48             85344.0  "
      ]
     },
     "execution_count": 4,
     "metadata": {},
     "output_type": "execute_result"
    }
   ],
   "source": [
    "import pandas as pd\n",
    "\n",
    "def findDiameter(filename, fmname):\n",
    "    df = pd.read_csv(filename,\n",
    "        index_col=0,\n",
    "        sep='\\t')\n",
    "    diameter = df.loc[fmname,'Diameter']\n",
    "    return(diameter)\n",
    "\n",
    "homeDir = 'P:\\\\PW-WATER SERVICES\\\\TECHNICAL SERVICES\\\\Anna'\n",
    "fmdataFile = homeDir + '\\\\FMdata.csv'\n",
    "dfDetails = pd.read_csv(\n",
    "    fmdataFile,\n",
    "    index_col=0,\n",
    "    dtype = {\n",
    "            'Flow Monitor' : 'object',\n",
    "            'Rain Gage' : 'object',\n",
    "            'Diameter' : np.float64,\n",
    "            'Linear Feet' : np.float64,\n",
    "            'Basin Area (Ac)' : np.float64,\n",
    "            'Bassin Footprint (in-mi)' : np.float64,\n",
    "            'Total Footage (LF)' : np.float64\n",
    "        })\n",
    "dfDetails[dfDetails==9999.0] = float('NaN')\n",
    "dfDetails.head()"
   ]
  },
  {
   "cell_type": "code",
   "execution_count": 5,
   "metadata": {},
   "outputs": [],
   "source": [
    "fmname = 'BC32'\n",
    "diameter = dfDetails.loc[fmname,'Diameter']\n",
    "df = flowDict[fmname]\n",
    "\n",
    "depth = np.linspace(0.001, diameter, 50)"
   ]
  },
  {
   "cell_type": "code",
   "execution_count": 6,
   "metadata": {},
   "outputs": [],
   "source": [
    "th = 2 * np.arccos(1 - 2 * depth / diameter)\n",
    "A = (diameter ** 2 / 8) * (th - np.sin(th))\n",
    "B = diameter * np.sin(th / 2)\n",
    "dh = A / B\n",
    "\n",
    "g = 32.2 * 12 #in/s^2\n",
    "Fr = 1\n",
    "vFr = Fr * np.sqrt(g * dh) / 12"
   ]
  },
  {
   "cell_type": "code",
   "execution_count": 7,
   "metadata": {},
   "outputs": [
    {
     "data": {
      "image/png": "[encoded data removed]",
      "text/plain": [
       "<Figure size 360x288 with 2 Axes>"
      ]
     },
     "metadata": {
      "needs_background": "light"
     },
     "output_type": "display_data"
    }
   ],
   "source": [
    "fmname = 'BC19A'\n",
    "diameter = dfDetails.loc[fmname,'Diameter']\n",
    "df = flowDict[fmname]\n",
    "\n",
    "cv = np.linspace(\n",
    "    df.index[0].month,\n",
    "    df.index[-1].month,\n",
    "    len(df.index))\n",
    "fig, ax = plt.subplots(figsize=(5,4))\n",
    "plt.scatter(\n",
    "    df['v (ft/s)'].values,\n",
    "    df['y (in)'].values,\n",
    "    marker = '.',\n",
    "    alpha = 0.8,\n",
    "    c = cv,\n",
    "    cmap = matplotlib.cm.get_cmap(\n",
    "        name = 'tab20b',\n",
    "        lut = list(set(df.index.month))[-1]\n",
    "                - list(set(df.index.month))[0] + 1))\n",
    "rightLim = np.ceil(df['v (ft/s)'].max())\n",
    "topLim = np.ceil(max(df['y (in)'].max(), diameter))\n",
    "ax.set_ylim(\n",
    "    top = 1.1 * topLim,\n",
    "    bottom = 0)\n",
    "ax.set_xlim(\n",
    "    left = 0,\n",
    "    right = 1.05 * rightLim)\n",
    "cb = plt.colorbar(\n",
    "    ticks = list(set(df.index.month)))\n",
    "cb.ax.set_title('Month')\n",
    "# plot diameter\n",
    "ax.plot(\n",
    "    [0, 1.1 * rightLim],\n",
    "    [diameter, diameter],\n",
    "    linewidth = 2.0,\n",
    "    linestyle = '-',\n",
    "    color = 'xkcd:grey')\n",
    "# CRITICAL FROUDE NO. LINE\n",
    "#ax.plot(\n",
    "#    vFr,\n",
    "#    dh,\n",
    "#    linewidth = 2.0,\n",
    "#    linestyle = ':',\n",
    "#    color = 'xkcd:charcoal')\n",
    "ax.text(0.1, diameter + 0.02 * topLim, \n",
    "        s = 'Diameter = ' + str(diameter) + '\"',\n",
    "       color = 'xkcd:grey')\n",
    "ax.set_xlabel('Velocity (ft/s)')\n",
    "ax.set_ylabel('Depth (in)')\n",
    "ax.xaxis.grid(\n",
    "        True, \n",
    "        linestyle = '-',\n",
    "        which = 'major',\n",
    "        color = 'xkcd:charcoal',\n",
    "        alpha = 0.25)\n",
    "ax.yaxis.grid(\n",
    "        True, \n",
    "        linestyle = '-',\n",
    "        which = 'major',\n",
    "        color = 'xkcd:charcoal',\n",
    "        alpha = 0.25)\n",
    "plt.tight_layout()"
   ]
  },
  {
   "cell_type": "code",
   "execution_count": 8,
   "metadata": {},
   "outputs": [
    {
     "data": {
      "text/plain": [
       "0.025608194622279125"
      ]
     },
     "execution_count": 8,
     "metadata": {},
     "output_type": "execute_result"
    }
   ],
   "source": [
    "2 / (1.1 * topLim)"
   ]
  },
  {
   "cell_type": "code",
   "execution_count": 9,
   "metadata": {},
   "outputs": [
    {
     "data": {
      "text/plain": [
       "[<matplotlib.lines.Line2D at 0xfed4e48>]"
      ]
     },
     "execution_count": 9,
     "metadata": {},
     "output_type": "execute_result"
    },
    {
     "data": {
      "image/png": "[encoded data removed]",
      "text/plain": [
       "<Figure size 432x288 with 2 Axes>"
      ]
     },
     "metadata": {
      "needs_background": "light"
     },
     "output_type": "display_data"
    }
   ],
   "source": [
    "fmname = 'BC30'\n",
    "diameter = dfDetails.loc[fmname,'Diameter']\n",
    "df = flowDict[fmname]\n",
    "cv = np.linspace(\n",
    "    df.index[0].month,\n",
    "    df.index[-1].month,\n",
    "    len(df.index))\n",
    "fig, ax = plt.subplots()\n",
    "plt.scatter(\n",
    "    df['y (in)'].values,\n",
    "    df['v (ft/s)'].values,\n",
    "    marker = '.',\n",
    "    alpha = 1,\n",
    "    c = cv,\n",
    "    cmap = matplotlib.cm.get_cmap(\n",
    "        name = 'twilight_shifted',\n",
    "        lut = list(set(df.index.month))[-1]\n",
    "                - list(set(df.index.month))[0] + 1))\n",
    "ax.set_xlim(\n",
    "    right = 1.1 * np.ceil(df['y (in)'].max()),\n",
    "    left = 0)\n",
    "ax.set_ylim(\n",
    "    bottom = 0,\n",
    "    top = np.ceil(df['v (ft/s)'].max()))\n",
    "cb = plt.colorbar(\n",
    "    ticks = list(set(df.index.month)))\n",
    "cb.ax.set_title('Month')\n",
    "# plot diameter\n",
    "ax.plot(\n",
    "    [diameter, diameter],\n",
    "    [0, np.ceil(df['v (ft/s)'].max())],\n",
    "    linewidth = 2.0,\n",
    "    linestyle = ':',\n",
    "    color = 'xkcd:charcoal')"
   ]
  },
  {
   "cell_type": "code",
   "execution_count": 10,
   "metadata": {},
   "outputs": [
    {
     "name": "stderr",
     "output_type": "stream",
     "text": [
      "C:\\Users\\Anna.Skipper\\AppData\\Local\\Continuum\\anaconda3\\lib\\site-packages\\ipykernel_launcher.py:9: RuntimeWarning: invalid value encountered in arccos\n",
      "  if __name__ == '__main__':\n"
     ]
    }
   ],
   "source": [
    "fmname = 'BC19A'\n",
    "df = flowDict[fmname]\n",
    "depth = df['y (in)'].values\n",
    "dmin = df['y (in)'].min()\n",
    "diameter = dfDetails.loc[fmname,'Diameter']\n",
    "\n",
    "# initialize\n",
    "ddog = 0\n",
    "th = 2 * np.arccos(1 - 2 * df['y (in)'].values / diameter)\n",
    "A = (diameter ** 2 / 8) * (th - np.sin(th))\n",
    "P = diameter * th / 2"
   ]
  },
  {
   "cell_type": "code",
   "execution_count": 11,
   "metadata": {},
   "outputs": [
    {
     "data": {
      "image/png": "[encoded data removed]",
      "text/plain": [
       "<Figure size 432x288 with 1 Axes>"
      ]
     },
     "metadata": {
      "needs_background": "light"
     },
     "output_type": "display_data"
    }
   ],
   "source": [
    "import datetime as dt\n",
    "import matplotlib\n",
    "import matplotlib.pyplot as plt\n",
    "import numpy as np\n",
    "\n",
    "delta = 15 / 60 / 24\n",
    "\n",
    "df32 = flowDict['BC32']\n",
    "wktotal32 = delta * np.trapz(y = df32.loc[dt.datetime(2018,11,1):dt.datetime(2018,11,7,23,45),'Q (MGD)'])\n",
    "\n",
    "df30 = flowDict['BC30']\n",
    "wktotal30 = delta * np.trapz(y = df30.loc[dt.datetime(2018,11,1):dt.datetime(2018,11,7,23,45),'Q (MGD)'])\n",
    "\n",
    "df33 = flowDict['BC33']\n",
    "wktotal33 = delta * np.trapz(y = df33.loc[dt.datetime(2018,11,1):dt.datetime(2018,11,7,23,45),'Q (MGD)'])\n",
    "\n",
    "df34 = flowDict['BC33']\n",
    "wktotal34 = delta * np.trapz(y = df34.loc[dt.datetime(2018,11,1):dt.datetime(2018,11,7,23,45),'Q (MGD)'])\n",
    "\n",
    "df36 = flowDict['BC33']\n",
    "wktotal36 = delta * np.trapz(y = df36.loc[dt.datetime(2018,11,1):dt.datetime(2018,11,7,23,45),'Q (MGD)'])\n",
    "\n",
    "usTotal = wktotal30 + wktotal33 + wktotal34 + wktotal36\n",
    "\n",
    "fig, ax = plt.subplots()\n",
    "ax.barh(range(6),[wktotal32,usTotal,wktotal30,wktotal33,wktotal34,wktotal36])\n",
    "plt.yticks(\n",
    "    ticks = range(6),\n",
    "    labels = ['BC32','US Total','BC30','BC33','BC34','BC36'])\n",
    "ax.invert_yaxis()"
   ]
  },
  {
   "cell_type": "code",
   "execution_count": 3,
   "metadata": {},
   "outputs": [],
   "source": [
    "def createStep(hours):\n",
    "    return(int(60 * hours / 15))"
   ]
  },
  {
   "cell_type": "code",
   "execution_count": 4,
   "metadata": {},
   "outputs": [],
   "source": [
    "def nantrapz(y, x = None, dx = 1.0):\n",
    "    y = np.asanyarray(y)\n",
    "    if x is None:\n",
    "        d = dx\n",
    "    else:\n",
    "        x = np.asanyarray(x)\n",
    "        d = np.diff(x)\n",
    "    ret = (d * (y[1:] + y[:-1])/2.0)\n",
    "    return(np.nansum(ret))"
   ]
  },
  {
   "cell_type": "code",
   "execution_count": 239,
   "metadata": {},
   "outputs": [],
   "source": [
    "import datetime as dt\n",
    "import numpy as np\n",
    "startDate = dt.datetime(2018,11,1)\n",
    "unc = 0.05 #uncertainty\n",
    "\n",
    "df = flowDict['BC32']\n",
    "Q = df['Q (MGD)'][startDate:]\n",
    "step = createStep(hours = 24 * 7) # one week\n",
    "startDates = [startDate + dt.timedelta(\n",
    "    minutes = 15 * x) for x in range(0,len(Q.index),step)]\n",
    "    \n",
    "def integrateSlices(Q, delta, startDates, step):\n",
    "    Qsum = []\n",
    "    ev = []\n",
    "    for date in startDates:\n",
    "        Qslice = Q[date:date + dt.timedelta(minutes = 15 * (step - 1))]\n",
    "        Qsum.append(delta * nantrapz(Qslice))\n",
    "        ef = ((delta/2 * Qslice[:-1].values * uncertainty)**2\n",
    "             + (delta/2 * Qslice[1:].values * uncertainty)**2\n",
    "            )**0.5\n",
    "        ev.append(np.nansum(ef**2)**0.5)\n",
    "    return((Qsum, ev, np.array(ev)/np.array(Qsum)))"
   ]
  },
  {
   "cell_type": "code",
   "execution_count": 240,
   "metadata": {},
   "outputs": [
    {
     "name": "stderr",
     "output_type": "stream",
     "text": [
      "C:\\Users\\Anna.Skipper\\AppData\\Local\\Continuum\\anaconda3\\lib\\site-packages\\ipykernel_launcher.py:22: RuntimeWarning: invalid value encountered in true_divide\n"
     ]
    }
   ],
   "source": [
    "from flowmeterAnalysis import readFiles\n",
    "upstreamFile = homeDir + '\\\\FMtoUpstream.csv'\n",
    "dfUpstream = readFiles.readUpstreamFile(\n",
    "    filename = upstreamFile)\n",
    "\n",
    "startDate = dt.datetime(2018,1,1)\n",
    "uncertainty = 0.05 #uncertainty in percent of value\n",
    "delta = 15 / 60 / 24\n",
    "fmname = 'BC32'\n",
    "step = createStep(hours = 24) # one week\n",
    "data = {}\n",
    "\n",
    "Q = flowDict[fmname]['Q (MGD)'][startDate:]\n",
    "startDates = [startDate + dt.timedelta(\n",
    "    minutes = 15 * x) for x in range(0,len(Q.index),step)]\n",
    "data[fmname] = integrateSlices(\n",
    "    Q = Q, \n",
    "    delta = delta, \n",
    "    startDates = startDates, \n",
    "    step = step)\n",
    "usfmList = readFiles.findUpstreamFMs(dfUpstream, fmname)\n",
    "totalUpstream = 0\n",
    "netError = 0\n",
    "for usfm in usfmList:\n",
    "    Q = flowDict[usfm]['Q (MGD)'][startDate:]\n",
    "    data[usfm] = integrateSlices(\n",
    "        Q = flowDict[usfm]['Q (MGD)'][startDate:], \n",
    "        delta = delta, \n",
    "        startDates = startDates, \n",
    "        step = step)\n",
    "    totalUpstream += np.array(data[usfm][0])\n",
    "    netError += np.array(data[usfm][1])**2\n",
    "    \n",
    "netDS = np.array(data[fmname][0]) - totalUpstream\n",
    "netError += np.array(data[fmname][1])**2\n",
    "netError = netError**0.5"
   ]
  },
  {
   "cell_type": "code",
   "execution_count": 74,
   "metadata": {},
   "outputs": [
    {
     "data": {
      "text/plain": [
       "2"
      ]
     },
     "execution_count": 74,
     "metadata": {},
     "output_type": "execute_result"
    }
   ],
   "source": [
    "int(30/14)"
   ]
  },
  {
   "cell_type": "code",
   "execution_count": 242,
   "metadata": {},
   "outputs": [
    {
     "data": {
      "image/png": "[encoded data removed]",
      "text/plain": [
       "<Figure size 720x428.571 with 1 Axes>"
      ]
     },
     "metadata": {},
     "output_type": "display_data"
    }
   ],
   "source": [
    "import matplotlib.pyplot as plt\n",
    "labels = []\n",
    "for idx in range(0,len(netDS),28):\n",
    "    labels.append(startDates[idx].strftime('%m/%d'))\n",
    "\n",
    "fig, ax = plt.subplots(figsize = (10,10/1.68))\n",
    "\n",
    "ax.plot([0,len(netDS)-1],\n",
    "        [0,0],\n",
    "        linewidth = 0,\n",
    "       color = 'xkcd:charcoal')\n",
    "#ax.fill_between(range(len(netDS)), netDS - netError, netDS + netError,\n",
    "#           facecolor = 'xkcd:light grey')\n",
    "ax.fill_between(range(len(netDS)), netDS, 0, facecolor = 'xkcd:baby blue')\n",
    "ax.plot(range(len(netDS)),\n",
    "        netDS,\n",
    "        linewidth = 1.5,\n",
    "       color = 'xkcd:charcoal')\n",
    "#ax.text(4, 0.9 * np.max(netDS),\n",
    "#        s = ('error = ' + '[' + str(round(min(netError),2)) \n",
    "#             + ', ' + str(round(max(netError),2)) + '] MG'),\n",
    "#       color = 'xkcd:charcoal')\n",
    "netDSm = round(netDS.mean(),2)\n",
    "netDSmed = round(np.quantile(netDS,0.5),2)\n",
    "ax1_yticks = [\n",
    "             netDS.min(),\n",
    "             netDSmed,\n",
    "             netDS.max()]\n",
    "plt.yticks(\n",
    "    ticks = ax1_yticks,\n",
    "    color = 'xkcd:charcoal')\n",
    "plt.xticks(\n",
    "    ticks = range(0,len(netDS),28),\n",
    "   labels = labels,\n",
    "color = 'xkcd:grey')\n",
    "ax.set_ylabel('Net Volume (MG)')\n",
    "ax.set_title(fmname)\n",
    "ax.spines['top'].set_visible(False)\n",
    "ax.spines['right'].set_visible(False)\n",
    "ax.spines['bottom'].set_color('xkcd:grey')\n",
    "ax.spines['left'].set_color('xkcd:grey')\n",
    "\n",
    "'''ax2 = ax.twinx()\n",
    "df = dfDaily.copy()\n",
    "df.index = range(0,len(dfDaily))\n",
    "#df.plot(\n",
    "    ax = ax2,\n",
    "    legend = False,\n",
    "    linewidth = 0.3,\n",
    "    color = 'xkcd:greyish blue')\n",
    "df[df > np.quantile(df.values, 0.9)].plot(\n",
    "    ax = ax2,\n",
    "    legend = False,\n",
    "    linewidth = 0,\n",
    "    marker = '.',\n",
    "    color = 'xkcd:robin\\'s egg')\n",
    "#ax2.set_ylim(\n",
    "#    top = round(4 * max(df.values)[0]),\n",
    "#    bottom = 0)\n",
    "ax2.set_yticks(\n",
    "    ticks = [\n",
    "            round(np.quantile(df.values, 0.9), 2),\n",
    "            round(np.quantile(df.values, 0.99), 2),\n",
    "            round(max(df.values)[0],2)])\n",
    "ax2.spines['top'].set_visible(False)\n",
    "ax2.spines['right'].set_color('xkcd:greyish blue')\n",
    "ax2.tick_params(axis='y', colors='xkcd:greyish blue')'''\n",
    "\n",
    "plt.show()"
   ]
  },
  {
   "cell_type": "code",
   "execution_count": 163,
   "metadata": {},
   "outputs": [
    {
     "data": {
      "text/plain": [
       "0.04"
      ]
     },
     "execution_count": 163,
     "metadata": {},
     "output_type": "execute_result"
    }
   ],
   "source": [
    "np.quantile(df.values, 0.75)"
   ]
  },
  {
   "cell_type": "code",
   "execution_count": 153,
   "metadata": {},
   "outputs": [
    {
     "data": {
      "text/plain": [
       "-0.1"
      ]
     },
     "execution_count": 153,
     "metadata": {},
     "output_type": "execute_result"
    }
   ],
   "source": [
    "min(netDS.min(), 0) - 0.1"
   ]
  },
  {
   "cell_type": "code",
   "execution_count": 189,
   "metadata": {},
   "outputs": [
    {
     "data": {
      "text/plain": [
       "(array([21.47532043,  1.02263431,  0.3408781 ,  0.3408781 ,  0.3408781 ,\n",
       "         0.6817562 ,  0.        ,  0.3408781 ,  0.        ,  1.36351241]),\n",
       " array([0.    , 0.0386, 0.0772, 0.1158, 0.1544, 0.193 , 0.2316, 0.2702,\n",
       "        0.3088, 0.3474, 0.386 ]),\n",
       " <a list of 10 Patch objects>)"
      ]
     },
     "execution_count": 189,
     "metadata": {},
     "output_type": "execute_result"
    },
    {
     "data": {
      "image/png": "[encoded data removed]",
      "text/plain": [
       "<Figure size 432x288 with 1 Axes>"
      ]
     },
     "metadata": {
      "needs_background": "light"
     },
     "output_type": "display_data"
    }
   ],
   "source": []
  },
  {
   "cell_type": "code",
   "execution_count": 27,
   "metadata": {},
   "outputs": [
    {
     "data": {
      "text/plain": [
       "[<matplotlib.lines.Line2D at 0xfb488d0>]"
      ]
     },
     "execution_count": 27,
     "metadata": {},
     "output_type": "execute_result"
    },
    {
     "data": {
      "image/png": "[encoded data removed]",
      "text/plain": [
       "<Figure size 432x288 with 1 Axes>"
      ]
     },
     "metadata": {
      "needs_background": "light"
     },
     "output_type": "display_data"
    }
   ],
   "source": [
    "from flowmeterAnalysis import readFiles\n",
    "from datetime import datetime\n",
    "analysisDates = (datetime(2018,1,1),datetime(2018,12,31))\n",
    "homeDir = 'P:\\\\PW-WATER SERVICES\\\\TECHNICAL SERVICES\\\\Anna'\n",
    "dailyFile = homeDir + '\\\\2018\\\\Rain\\\\RG_daily_20180101-20190331.txt'\n",
    "\n",
    "dfDaily = readFiles.readRaintxt(\n",
    "    filename = dailyFile,\n",
    "    useColList = ['Date', 'BCRG02'],\n",
    "    col_dtypes = [np.float64])\n",
    "dfDaily = dfDaily.loc[analysisDates[0].date():analysisDates[1].date()]\n",
    "\n",
    "fig, ax = plt.subplots()\n",
    "ax.plot(\n",
    "    dfDaily['BCRG02'].values,\n",
    "    netDS,\n",
    "    linewidth = 0,\n",
    "    marker = '.',\n",
    "    markersize = 8,\n",
    "    color = 'xkcd:charcoal')\n",
    "ax.plot([dfDaily['BCRG02'].min(),dfDaily['BCRG02'].max()],\n",
    "       [0,0],\n",
    "       color = 'xkcd:melon')"
   ]
  },
  {
   "cell_type": "code",
   "execution_count": 89,
   "metadata": {},
   "outputs": [
    {
     "data": {
      "text/plain": [
       "<matplotlib.axes._subplots.AxesSubplot at 0x15f5b0b8>"
      ]
     },
     "execution_count": 89,
     "metadata": {},
     "output_type": "execute_result"
    },
    {
     "data": {
      "image/png": "[encoded data removed]",
      "text/plain": [
       "<Figure size 432x288 with 1 Axes>"
      ]
     },
     "metadata": {
      "needs_background": "light"
     },
     "output_type": "display_data"
    }
   ],
   "source": [
    "fig, ax = plt.subplots()\n",
    "\n",
    "dfDaily.plot(ax = ax,\n",
    "    linewidth = 0.5)\n",
    "dfDaily[dfDaily > 0.5].plot(\n",
    "    ax = ax,\n",
    "    linewidth = 0,\n",
    "    marker = '.')"
   ]
  },
  {
   "cell_type": "code",
   "execution_count": 125,
   "metadata": {},
   "outputs": [
    {
     "data": {
      "text/plain": [
       "array([[0.  ],\n",
       "       [0.  ],\n",
       "       [0.  ],\n",
       "       [0.  ],\n",
       "       [0.  ],\n",
       "       [0.  ],\n",
       "       [0.  ],\n",
       "       [0.24],\n",
       "       [0.  ],\n",
       "       [0.  ],\n",
       "       [0.22],\n",
       "       [0.67],\n",
       "       [0.  ],\n",
       "       [0.  ],\n",
       "       [0.  ],\n",
       "       [0.  ],\n",
       "       [0.1 ],\n",
       "       [0.  ],\n",
       "       [0.  ],\n",
       "       [0.  ],\n",
       "       [0.  ],\n",
       "       [0.25],\n",
       "       [0.01],\n",
       "       [0.  ],\n",
       "       [0.  ],\n",
       "       [0.  ],\n",
       "       [0.11],\n",
       "       [1.15],\n",
       "       [0.03],\n",
       "       [0.  ],\n",
       "       [0.  ],\n",
       "       [0.08],\n",
       "       [0.03],\n",
       "       [0.  ],\n",
       "       [1.94],\n",
       "       [0.  ],\n",
       "       [0.  ],\n",
       "       [1.06],\n",
       "       [0.  ],\n",
       "       [0.25],\n",
       "       [0.26],\n",
       "       [0.99],\n",
       "       [0.02],\n",
       "       [0.  ],\n",
       "       [0.01],\n",
       "       [0.  ],\n",
       "       [0.  ],\n",
       "       [0.02],\n",
       "       [0.39],\n",
       "       [0.01],\n",
       "       [0.  ],\n",
       "       [0.25],\n",
       "       [0.  ],\n",
       "       [0.  ],\n",
       "       [0.  ],\n",
       "       [0.48],\n",
       "       [0.33],\n",
       "       [0.  ],\n",
       "       [0.13],\n",
       "       [0.32],\n",
       "       [0.  ],\n",
       "       [0.  ],\n",
       "       [0.  ],\n",
       "       [0.  ],\n",
       "       [0.4 ],\n",
       "       [0.01],\n",
       "       [0.  ],\n",
       "       [0.  ],\n",
       "       [0.  ],\n",
       "       [0.55],\n",
       "       [0.41],\n",
       "       [0.  ],\n",
       "       [0.  ],\n",
       "       [0.  ],\n",
       "       [0.  ],\n",
       "       [0.06],\n",
       "       [0.  ],\n",
       "       [0.36],\n",
       "       [0.07],\n",
       "       [0.  ],\n",
       "       [0.  ],\n",
       "       [0.  ],\n",
       "       [0.02],\n",
       "       [0.2 ],\n",
       "       [0.  ],\n",
       "       [0.  ],\n",
       "       [0.  ],\n",
       "       [0.52],\n",
       "       [0.01],\n",
       "       [0.  ],\n",
       "       [0.  ],\n",
       "       [0.  ],\n",
       "       [0.  ],\n",
       "       [0.19],\n",
       "       [0.  ],\n",
       "       [0.  ],\n",
       "       [0.14],\n",
       "       [0.  ],\n",
       "       [0.05],\n",
       "       [0.  ],\n",
       "       [0.  ],\n",
       "       [0.  ],\n",
       "       [0.  ],\n",
       "       [0.  ],\n",
       "       [0.66],\n",
       "       [0.01],\n",
       "       [0.  ],\n",
       "       [0.  ],\n",
       "       [0.  ],\n",
       "       [0.  ],\n",
       "       [0.  ],\n",
       "       [0.13],\n",
       "       [1.85],\n",
       "       [0.71],\n",
       "       [0.  ],\n",
       "       [0.05],\n",
       "       [0.  ],\n",
       "       [0.  ],\n",
       "       [0.  ],\n",
       "       [0.  ],\n",
       "       [0.  ],\n",
       "       [0.  ],\n",
       "       [0.  ],\n",
       "       [0.  ],\n",
       "       [0.  ],\n",
       "       [0.  ],\n",
       "       [0.  ],\n",
       "       [0.  ],\n",
       "       [0.  ],\n",
       "       [0.06],\n",
       "       [0.  ],\n",
       "       [0.  ],\n",
       "       [0.  ],\n",
       "       [0.  ],\n",
       "       [0.02],\n",
       "       [0.71],\n",
       "       [0.01],\n",
       "       [0.  ],\n",
       "       [0.  ],\n",
       "       [0.  ],\n",
       "       [0.  ],\n",
       "       [0.34],\n",
       "       [0.06],\n",
       "       [0.  ],\n",
       "       [0.23],\n",
       "       [0.  ],\n",
       "       [0.  ],\n",
       "       [1.03],\n",
       "       [0.43],\n",
       "       [0.69],\n",
       "       [0.  ],\n",
       "       [0.72],\n",
       "       [0.31],\n",
       "       [0.  ],\n",
       "       [0.  ],\n",
       "       [0.  ],\n",
       "       [0.  ],\n",
       "       [0.  ],\n",
       "       [0.1 ],\n",
       "       [0.  ],\n",
       "       [0.  ],\n",
       "       [0.02],\n",
       "       [0.01],\n",
       "       [0.57],\n",
       "       [0.01],\n",
       "       [0.  ],\n",
       "       [0.16],\n",
       "       [0.01],\n",
       "       [0.  ],\n",
       "       [0.  ],\n",
       "       [0.  ],\n",
       "       [0.28],\n",
       "       [0.26],\n",
       "       [0.  ],\n",
       "       [0.  ],\n",
       "       [0.12],\n",
       "       [0.  ],\n",
       "       [0.02],\n",
       "       [0.31],\n",
       "       [0.  ],\n",
       "       [0.  ],\n",
       "       [0.02],\n",
       "       [0.01],\n",
       "       [0.  ],\n",
       "       [0.  ],\n",
       "       [0.  ],\n",
       "       [0.  ],\n",
       "       [0.  ],\n",
       "       [0.  ],\n",
       "       [0.  ],\n",
       "       [0.  ],\n",
       "       [0.  ],\n",
       "       [0.  ],\n",
       "       [0.69],\n",
       "       [0.  ],\n",
       "       [0.  ],\n",
       "       [0.  ],\n",
       "       [0.  ],\n",
       "       [0.  ],\n",
       "       [0.1 ],\n",
       "       [0.  ],\n",
       "       [0.09],\n",
       "       [0.02],\n",
       "       [0.01],\n",
       "       [0.  ],\n",
       "       [0.  ],\n",
       "       [0.  ],\n",
       "       [0.  ],\n",
       "       [0.  ],\n",
       "       [0.  ],\n",
       "       [0.01],\n",
       "       [0.  ],\n",
       "       [0.  ],\n",
       "       [0.  ],\n",
       "       [0.01],\n",
       "       [0.  ],\n",
       "       [0.  ],\n",
       "       [0.22],\n",
       "       [0.  ],\n",
       "       [0.  ],\n",
       "       [0.01],\n",
       "       [0.  ],\n",
       "       [0.  ],\n",
       "       [0.  ],\n",
       "       [0.  ],\n",
       "       [0.  ],\n",
       "       [0.  ],\n",
       "       [0.  ],\n",
       "       [0.  ],\n",
       "       [0.02],\n",
       "       [0.  ],\n",
       "       [0.1 ],\n",
       "       [0.  ],\n",
       "       [0.  ],\n",
       "       [0.  ],\n",
       "       [0.  ],\n",
       "       [0.  ],\n",
       "       [0.  ],\n",
       "       [0.  ],\n",
       "       [0.  ],\n",
       "       [0.12],\n",
       "       [0.01],\n",
       "       [0.  ],\n",
       "       [0.  ],\n",
       "       [0.  ],\n",
       "       [0.  ],\n",
       "       [0.  ],\n",
       "       [0.  ],\n",
       "       [0.  ],\n",
       "       [0.  ],\n",
       "       [0.14],\n",
       "       [0.  ],\n",
       "       [0.  ],\n",
       "       [0.  ],\n",
       "       [0.  ],\n",
       "       [0.  ],\n",
       "       [0.  ],\n",
       "       [0.  ],\n",
       "       [0.04],\n",
       "       [0.  ],\n",
       "       [0.  ],\n",
       "       [0.  ],\n",
       "       [0.  ],\n",
       "       [0.  ],\n",
       "       [0.  ],\n",
       "       [0.  ],\n",
       "       [0.  ],\n",
       "       [0.04],\n",
       "       [0.07],\n",
       "       [0.08],\n",
       "       [0.01],\n",
       "       [0.  ],\n",
       "       [0.  ],\n",
       "       [0.  ],\n",
       "       [0.  ],\n",
       "       [0.  ],\n",
       "       [0.  ],\n",
       "       [0.  ],\n",
       "       [0.  ],\n",
       "       [0.  ],\n",
       "       [0.  ],\n",
       "       [0.  ],\n",
       "       [0.56],\n",
       "       [2.48],\n",
       "       [0.  ],\n",
       "       [0.  ],\n",
       "       [0.  ],\n",
       "       [0.  ],\n",
       "       [0.  ],\n",
       "       [0.  ],\n",
       "       [0.  ],\n",
       "       [0.  ],\n",
       "       [0.  ],\n",
       "       [0.  ],\n",
       "       [0.  ],\n",
       "       [0.  ],\n",
       "       [0.  ],\n",
       "       [0.02],\n",
       "       [1.03],\n",
       "       [0.03],\n",
       "       [0.  ],\n",
       "       [0.  ],\n",
       "       [0.  ],\n",
       "       [0.  ],\n",
       "       [0.51],\n",
       "       [0.15],\n",
       "       [0.  ],\n",
       "       [0.  ],\n",
       "       [0.21],\n",
       "       [0.38],\n",
       "       [0.36],\n",
       "       [0.35],\n",
       "       [1.2 ],\n",
       "       [0.  ],\n",
       "       [0.  ],\n",
       "       [3.82],\n",
       "       [0.21],\n",
       "       [0.81],\n",
       "       [0.7 ],\n",
       "       [0.  ],\n",
       "       [0.  ],\n",
       "       [0.  ],\n",
       "       [0.  ],\n",
       "       [0.  ],\n",
       "       [0.  ],\n",
       "       [0.  ],\n",
       "       [0.04],\n",
       "       [0.51],\n",
       "       [0.  ],\n",
       "       [0.  ],\n",
       "       [0.  ],\n",
       "       [0.  ],\n",
       "       [0.1 ],\n",
       "       [0.01],\n",
       "       [0.81],\n",
       "       [0.28],\n",
       "       [0.  ],\n",
       "       [0.  ],\n",
       "       [0.  ],\n",
       "       [0.  ],\n",
       "       [0.  ],\n",
       "       [0.88],\n",
       "       [0.81],\n",
       "       [0.07],\n",
       "       [0.01],\n",
       "       [0.  ],\n",
       "       [0.  ],\n",
       "       [0.18],\n",
       "       [0.06],\n",
       "       [0.  ],\n",
       "       [0.  ],\n",
       "       [0.  ],\n",
       "       [0.  ],\n",
       "       [0.39],\n",
       "       [0.65],\n",
       "       [0.  ],\n",
       "       [0.  ],\n",
       "       [0.  ],\n",
       "       [0.  ],\n",
       "       [0.  ],\n",
       "       [0.37],\n",
       "       [2.78],\n",
       "       [0.01],\n",
       "       [0.99],\n",
       "       [0.03]])"
      ]
     },
     "execution_count": 125,
     "metadata": {},
     "output_type": "execute_result"
    }
   ],
   "source": [
    "indx = list(range(0,len(dfDaily)))\n",
    "dfDaily.values[dfDaily.values > 0.5]\n",
    "df = dfDaily.copy()\n",
    "\n",
    "df.index = range(0,len(dfDaily))"
   ]
  },
  {
   "cell_type": "code",
   "execution_count": 243,
   "metadata": {},
   "outputs": [],
   "source": [
    "def createStep(hours):\n",
    "    return(int(60 * hours / 15))\n",
    "\n",
    "def nantrapz(y, x = None, dx = 1.0):\n",
    "    y = np.asanyarray(y)\n",
    "    if x is None:\n",
    "        d = dx\n",
    "    else:\n",
    "        x = np.asanyarray(x)\n",
    "        d = np.diff(x)\n",
    "    ret = (d * (y[1:] + y[:-1])/2.0)\n",
    "    return(np.nansum(ret))\n",
    "\n",
    "def integrateSlices(Q, delta, startDates, step, uncertainty):\n",
    "    Qsum = []\n",
    "    ev = []\n",
    "    for date in startDates:\n",
    "        Qslice = Q[date:date + dt.timedelta(minutes = 15 * (step - 1))]\n",
    "        Qsum.append(delta * nantrapz(Qslice))\n",
    "        ef = ((delta/2 * Qslice[:-1].values * uncertainty)**2\n",
    "             + (delta/2 * Qslice[1:].values * uncertainty)**2\n",
    "            )**0.5\n",
    "        ev.append(np.nansum(ef**2)**0.5)\n",
    "    return((Qsum, ev, np.array(ev)/np.array(Qsum)))\n",
    "\n",
    "def netVolumes(fmname, dfIterable, startDate, hours, dfUpstream):\n",
    "    delta = 15 / 60 / 24\n",
    "    data = {}\n",
    "    step = createStep(hours = hours)\n",
    "    startDates = [startDate + dt.timedelta(\n",
    "        minutes = 15 * x) for x in range(0,len(Q.index),step)]\n",
    "    data[fmname] = integrateSlices(\n",
    "        Q = dfIterable[fmname]['Q (MGD)'][startDate:], \n",
    "        delta = delta, \n",
    "        startDates = startDates, \n",
    "        step = step,\n",
    "        uncertainty = 0.05)\n",
    "    usfmList = readFiles.findUpstreamFMs(dfUpstream, fmname)\n",
    "    totalUpstream = 0\n",
    "    netError = 0\n",
    "    for usfm in usfmList:\n",
    "        data[usfm] = integrateSlices(\n",
    "            Q = dfIterable[usfm]['Q (MGD)'][startDate:], \n",
    "            delta = delta, \n",
    "            startDates = startDates, \n",
    "            step = step,\n",
    "            uncertainty = 0.05)\n",
    "        totalUpstream += np.array(data[usfm][0])\n",
    "        netError += np.array(data[usfm][1])**2\n",
    "    netDS = np.array(data[fmname][0]) - totalUpstream\n",
    "    netError += np.array(data[fmname][1])**2\n",
    "    netError = netError**0.5\n",
    "    return(netDS, netError)\n",
    "\n",
    "def plotNetVolumes(fmname, netDS, netError, startDate, dfDaily, saveDir = []):\n",
    "    startDates = [startDate + dt.timedelta(\n",
    "        minutes = 15 * x) for x in range(0,len(Q.index),step)]\n",
    "    labels = []\n",
    "    for idx in range(0, len(netDS), int(len(netDS)/14)):\n",
    "        labels.append(startDates[idx].strftime('%m/%d'))\n",
    "    fig, ax = plt.subplots(figsize = (10, 10/1.68))\n",
    "    #ax.fill_between(range(len(netDS)), netDS - netError, netDS + netError,\n",
    "    #       facecolor = 'xkcd:light grey')\n",
    "    ax.fill_between(range(len(netDS)), netDS, 0, facecolor = 'xkcd:baby blue')\n",
    "    ax.plot([0,len(netDS)-1],\n",
    "        [0, 0],\n",
    "        linewidth = 1.25,\n",
    "       color = 'xkcd:melon')\n",
    "    ax.plot(range(len(netDS)),\n",
    "        netDS,\n",
    "        linewidth = 1.75,\n",
    "       color = 'xkcd:charcoal')\n",
    "    plt.yticks(\n",
    "        ticks = [round(netDS.min(), 2),\n",
    "                round(np.quantile(netDS,0.5), 2),\n",
    "                round(netDS.max(), 2)],\n",
    "        color = 'xkcd:charcoal')\n",
    "    plt.xticks(\n",
    "        ticks = range(0, len(netDS), int(len(netDS)/14)),\n",
    "        labels = labels,\n",
    "        color = 'xkcd:grey')\n",
    "    ax.set_ylabel('Net Volume (MG)')\n",
    "    ax.set_title(fmname)\n",
    "    ax.spines['top'].set_visible(False)\n",
    "    ax.spines['right'].set_visible(False)\n",
    "    ax.spines['bottom'].set_color('xkcd:grey')\n",
    "    ax.spines['left'].set_color('xkcd:grey')\n",
    "    '''ax2 = ax.twinx()\n",
    "    df = dfDaily.copy()\n",
    "    df.index = range(0,len(dfDaily))\n",
    "    df.plot(\n",
    "        ax = ax2,\n",
    "        legend = False,\n",
    "        linewidth = 0.5,\n",
    "        color = 'xkcd:greyish blue')\n",
    "    df[df > np.quantile(df.values, 0.9)].plot(\n",
    "        ax = ax2,\n",
    "        legend = False,\n",
    "        linewidth = 0,\n",
    "        marker = '.',\n",
    "        color = 'xkcd:robin\\'s egg')\n",
    "    #ax2.set_ylim(\n",
    "    #    top = round(4 * max(df.values)[0]),\n",
    "    #    bottom = 0)\n",
    "    ax2.set_yticks(\n",
    "        ticks = [\n",
    "            round(np.quantile(df.values, 0.9), 2),\n",
    "            round(np.quantile(df.values, 0.99), 2),\n",
    "            round(max(df.values)[0],2)])\n",
    "    ax2.spines['top'].set_visible(False)\n",
    "    ax2.spines['right'].set_color('xkcd:greyish blue')\n",
    "    ax2.tick_params(axis='y', colors='xkcd:greyish blue')\n",
    "    ax.set_ylabel('Rain (in)')\n",
    "    ax2.yaxis.label.set_color('xkcd:greyish blue')'''\n",
    "    if not saveDir:\n",
    "        plt.show()\n",
    "    else:\n",
    "        saveName = saveDir + '\\\\' + fmname + '_' + str(startDates[0].year) + '_netVol.png'\n",
    "        plt.savefig(saveName\n",
    "            )\n",
    "        plt.close(fig)"
   ]
  },
  {
   "cell_type": "code",
   "execution_count": 244,
   "metadata": {},
   "outputs": [
    {
     "name": "stderr",
     "output_type": "stream",
     "text": [
      "C:\\Users\\Anna.Skipper\\AppData\\Local\\Continuum\\anaconda3\\lib\\site-packages\\ipykernel_launcher.py:24: RuntimeWarning: invalid value encountered in true_divide\n"
     ]
    }
   ],
   "source": [
    "from flowmeterAnalysis import readFiles\n",
    "\n",
    "homeDir = 'P:\\\\PW-WATER SERVICES\\\\TECHNICAL SERVICES\\\\Anna'\n",
    "pickleLocation = homeDir + '\\\\2018\\\\Python Objects\\\\'\n",
    "upstreamFile = homeDir + '\\\\FMtoUpstream.csv'\n",
    "saveDir = homeDir + '\\\\net volumes'\n",
    "dailyFile = homeDir + '\\\\2018\\\\Rain\\\\RG_daily_20180101-20190331.txt'\n",
    "fmdataFile = homeDir + '\\\\FMdata.csv'\n",
    "\n",
    "\n",
    "dfUpstream = readFiles.readUpstreamFile(\n",
    "    filename = upstreamFile)\n",
    "dfmDetails = readFiles.readFMdetails(\n",
    "    filename=fmdataFile)\n",
    "\n",
    "#with open(pickleLocation + 'flowDict.pickle', 'rb') as handle:\n",
    "#    flowDict = pickle.load(handle)\n",
    "    \n",
    "analysisDates = (dt.datetime(2018,1,1), dt.datetime(2018,12,31,23,45))\n",
    "\n",
    "netFlow = {}\n",
    "for fm in flowDict:\n",
    "    \n",
    "    dfDaily = readFiles.readRaintxt(\n",
    "        filename = dailyFile,\n",
    "        useColList = ['Date', dfmDetails.loc[fm, 'Rain Gage']],\n",
    "        col_dtypes = [np.float64])\n",
    "    dfDaily = dfDaily.loc[analysisDates[0].date():analysisDates[1].date()]\n",
    "    netFlow[fm] = {}\n",
    "    netFlow[fm]['Net Vol'], netFlow[fm]['Net Error'] = netVolumes(\n",
    "        fmname = fm, \n",
    "        dfIterable = flowDict, \n",
    "        startDate = analysisDates[0], \n",
    "        hours = 24, \n",
    "        dfUpstream = dfUpstream)\n",
    "    plotNetVolumes(\n",
    "        fmname = fm, \n",
    "        netDS = netFlow[fm]['Net Vol'], \n",
    "        netError = netFlow[fm]['Net Error'], \n",
    "        startDate = analysisDates[0],\n",
    "        dfDaily = dfDaily,\n",
    "        saveDir = saveDir)"
   ]
  },
  {
   "cell_type": "code",
   "execution_count": 245,
   "metadata": {},
   "outputs": [
    {
     "data": {
      "text/plain": [
       "[<matplotlib.lines.Line2D at 0x2d21b320>]"
      ]
     },
     "execution_count": 245,
     "metadata": {},
     "output_type": "execute_result"
    },
    {
     "data": {
      "image/png": "[encoded data removed]",
      "text/plain": [
       "<Figure size 432x288 with 1 Axes>"
      ]
     },
     "metadata": {
      "needs_background": "light"
     },
     "output_type": "display_data"
    }
   ],
   "source": [
    "fig, ax = plt.subplots()\n",
    "\n",
    "fm = 'BC32'\n",
    "rg = 'BCRG02'\n",
    "dfDaily = readFiles.readRaintxt(\n",
    "        filename = dailyFile,\n",
    "        useColList = ['Date', rg],\n",
    "        col_dtypes = [np.float64])\n",
    "dfDaily = dfDaily.loc[analysisDates[0].date():analysisDates[1].date()]\n",
    "\n",
    "ax.plot(dfDaily.values, netFlow[fm]['Net Vol'],\n",
    "       linewidth = 0,\n",
    "       marker = '.')"
   ]
  },
  {
   "cell_type": "code",
   "execution_count": 249,
   "metadata": {},
   "outputs": [
    {
     "data": {
      "text/plain": [
       "0.37015578468431354"
      ]
     },
     "execution_count": 249,
     "metadata": {},
     "output_type": "execute_result"
    }
   ],
   "source": [
    "x = netFlow['BC32']['Net Vol']\n",
    "y = dfDaily.values\n",
    "y.std()"
   ]
  },
  {
   "cell_type": "code",
   "execution_count": 262,
   "metadata": {},
   "outputs": [],
   "source": [
    "def covariance(x, y):\n",
    "    z = (x - x.mean()) * (y - y.mean())\n",
    "    return(z.mean())\n",
    "\n",
    "def corr(x, y):\n",
    "    cov = covariance(x, y)\n",
    "    corr = cov/(x.std() * y.std())\n",
    "    return(corr)\n",
    "\n",
    "rho = pd.Series(index = list(netFlow.keys()))\n",
    "for fm in netFlow.keys():\n",
    "    dfDaily = readFiles.readRaintxt(\n",
    "        filename = dailyFile,\n",
    "        useColList = ['Date', dfmDetails.loc[fm, 'Rain Gage']],\n",
    "        col_dtypes = [np.float64])\n",
    "    dfDaily = dfDaily.loc[analysisDates[0].date():analysisDates[1].date()]\n",
    "    rho[fm] = corr(\n",
    "        x = netFlow[fm]['Net Vol'],\n",
    "        y = dfDaily.values)"
   ]
  },
  {
   "cell_type": "code",
   "execution_count": 265,
   "metadata": {},
   "outputs": [
    {
     "data": {
      "text/plain": [
       "(-1, 1)"
      ]
     },
     "execution_count": 265,
     "metadata": {},
     "output_type": "execute_result"
    },
    {
     "data": {
      "image/png": "[encoded data removed]",
      "text/plain": [
       "<Figure size 432x288 with 1 Axes>"
      ]
     },
     "metadata": {
      "needs_background": "light"
     },
     "output_type": "display_data"
    }
   ],
   "source": [
    "fig, ax = plt.subplots()\n",
    "rho.plot(\n",
    "    ax = ax,\n",
    "    kind = 'line',\n",
    "    linewidth = 0,\n",
    "    marker = '.')\n",
    "ax.set_ylim(top = 1, bottom = -1)"
   ]
  },
  {
   "cell_type": "code",
   "execution_count": null,
   "metadata": {},
   "outputs": [],
   "source": []
  }
 ],
 "metadata": {
  "kernelspec": {
   "display_name": "Python 3",
   "language": "python",
   "name": "python3"
  },
  "language_info": {
   "codemirror_mode": {
    "name": "ipython",
    "version": 3
   },
   "file_extension": ".py",
   "mimetype": "text/x-python",
   "name": "python",
   "nbconvert_exporter": "python",
   "pygments_lexer": "ipython3",
   "version": "3.7.3"
  }
 },
 "nbformat": 4,
 "nbformat_minor": 2
}
