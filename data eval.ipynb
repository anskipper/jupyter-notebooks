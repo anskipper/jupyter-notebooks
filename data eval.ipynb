{
 "cells": [
  {
   "cell_type": "code",
   "execution_count": 2,
   "metadata": {},
   "outputs": [],
   "source": [
    "import pickle\n",
    "\n",
    "homeDir = 'P:\\\\PW-WATER SERVICES\\\\TECHNICAL SERVICES\\\\Anna'\n",
    "pickleLocation = homeDir + '\\\\2018\\\\Python Objects\\\\'"
   ]
  },
  {
   "cell_type": "code",
   "execution_count": 3,
   "metadata": {},
   "outputs": [],
   "source": [
    "with open(pickleLocation + 'flowDict.pickle', 'rb') as handle:\n",
    "    flowDict = pickle.load(handle)\n"
   ]
  },
  {
   "cell_type": "code",
   "execution_count": 8,
   "metadata": {},
   "outputs": [
    {
     "data": {
      "image/png": "[encoded data removed]",
      "text/plain": [
       "<Figure size 144x774 with 1 Axes>"
      ]
     },
     "metadata": {
      "needs_background": "light"
     },
     "output_type": "display_data"
    }
   ],
   "source": [
    "import matplotlib\n",
    "import matplotlib.pyplot as plt\n",
    "import numpy as np\n",
    "\n",
    "col = 'Q (MGD)'\n",
    "\n",
    "percentRunning = []\n",
    "for fm in flowDict:\n",
    "    df = flowDict[fm]\n",
    "    percentRunning.append((len(flowDict[fm].index) \n",
    "                        - sum(np.isnan(flowDict[fm][col].values)))\n",
    "                     /len(flowDict[fm].index))\n",
    "\n",
    "font = {'family' : 'DejaVu Sans',\n",
    "        'weight' : 'normal',\n",
    "        'size'   : 10}\n",
    "\n",
    "matplotlib.rc('font', **font)\n",
    "\n",
    "#plt.xticks(range(0,len(newDF.index)))\n",
    "y = range(0,4 * len(percentRunning),4)\n",
    "leftLim = round(0.9 * min(percentRunning),1)\n",
    "xticks = list(np.arange(leftLim,1,0.1))\n",
    "xticks.append(1)\n",
    "fig, ax = plt.subplots(figsize=(2,10.75))\n",
    "ax.plot(percentRunning,\n",
    "       y,\n",
    "        marker = '.',\n",
    "        markersize = 9,\n",
    "        linewidth = 0,\n",
    "        alpha = 0.7,\n",
    "       color = 'xkcd:stormy blue')\n",
    "for xval, yval in zip(percentRunning, y):\n",
    "    ax.plot([0, xval],[yval, yval],\n",
    "           color = 'xkcd:stormy blue')\n",
    "plt.xticks(\n",
    "    ticks = xticks)\n",
    "plt.yticks(\n",
    "    ticks = y, \n",
    "    labels = list(flowDict.keys()))\n",
    "ax.xaxis.grid(True, \n",
    "            linestyle = '-',\n",
    "            which = 'major',\n",
    "            color = 'xkcd:charcoal',\n",
    "            alpha = 0.4)\n",
    "ax.yaxis.grid(True, \n",
    "            linestyle = '-',\n",
    "            which = 'major',\n",
    "            color = 'xkcd:charcoal',\n",
    "            alpha = 0.4)\n",
    "ax.set_xlim(left = leftLim)\n",
    "ax.invert_yaxis()\n",
    "ax.spines['bottom'].set_visible(False)\n",
    "ax.spines['top'].set_visible(False)\n",
    "ax.spines['right'].set_visible(False)\n",
    "ax.spines['left'].set_visible(False)\n",
    "ax.set_xlabel('Uptime')\n",
    "plt.tight_layout()\n",
    "plt.show()"
   ]
  },
  {
   "cell_type": "code",
   "execution_count": 10,
   "metadata": {},
   "outputs": [
    {
     "data": {
      "text/html": [
       "<div>\n",
       "<style scoped>\n",
       "    .dataframe tbody tr th:only-of-type {\n",
       "        vertical-align: middle;\n",
       "    }\n",
       "\n",
       "    .dataframe tbody tr th {\n",
       "        vertical-align: top;\n",
       "    }\n",
       "\n",
       "    .dataframe thead th {\n",
       "        text-align: right;\n",
       "    }\n",
       "</style>\n",
       "<table border=\"1\" class=\"dataframe\">\n",
       "  <thead>\n",
       "    <tr style=\"text-align: right;\">\n",
       "      <th></th>\n",
       "      <th>Rain Gage</th>\n",
       "      <th>Diameter</th>\n",
       "      <th>Linear Feet</th>\n",
       "      <th>Basin Area (Ac)</th>\n",
       "      <th>Basin Footprint (in-mi)</th>\n",
       "      <th>Total Footage (LF)</th>\n",
       "    </tr>\n",
       "    <tr>\n",
       "      <th>Flow Monitor</th>\n",
       "      <th></th>\n",
       "      <th></th>\n",
       "      <th></th>\n",
       "      <th></th>\n",
       "      <th></th>\n",
       "      <th></th>\n",
       "    </tr>\n",
       "  </thead>\n",
       "  <tbody>\n",
       "    <tr>\n",
       "      <th>BC01</th>\n",
       "      <td>BCRG01</td>\n",
       "      <td>42.00</td>\n",
       "      <td>127586.0</td>\n",
       "      <td>1369.06</td>\n",
       "      <td>153.97</td>\n",
       "      <td>56611.0</td>\n",
       "    </tr>\n",
       "    <tr>\n",
       "      <th>BC01A</th>\n",
       "      <td>BCRG02</td>\n",
       "      <td>26.88</td>\n",
       "      <td>NaN</td>\n",
       "      <td>NaN</td>\n",
       "      <td>57.28</td>\n",
       "      <td>19959.0</td>\n",
       "    </tr>\n",
       "    <tr>\n",
       "      <th>BC02</th>\n",
       "      <td>BCRG01</td>\n",
       "      <td>8.25</td>\n",
       "      <td>NaN</td>\n",
       "      <td>265.30</td>\n",
       "      <td>33.79</td>\n",
       "      <td>22305.0</td>\n",
       "    </tr>\n",
       "    <tr>\n",
       "      <th>BC03</th>\n",
       "      <td>BCRG01</td>\n",
       "      <td>15.00</td>\n",
       "      <td>NaN</td>\n",
       "      <td>548.54</td>\n",
       "      <td>85.21</td>\n",
       "      <td>52062.0</td>\n",
       "    </tr>\n",
       "    <tr>\n",
       "      <th>BC05</th>\n",
       "      <td>BCRG01</td>\n",
       "      <td>7.75</td>\n",
       "      <td>NaN</td>\n",
       "      <td>1037.10</td>\n",
       "      <td>129.48</td>\n",
       "      <td>85344.0</td>\n",
       "    </tr>\n",
       "  </tbody>\n",
       "</table>\n",
       "</div>"
      ],
      "text/plain": [
       "             Rain Gage  Diameter  Linear Feet  Basin Area (Ac)  \\\n",
       "Flow Monitor                                                     \n",
       "BC01            BCRG01     42.00     127586.0          1369.06   \n",
       "BC01A           BCRG02     26.88          NaN              NaN   \n",
       "BC02            BCRG01      8.25          NaN           265.30   \n",
       "BC03            BCRG01     15.00          NaN           548.54   \n",
       "BC05            BCRG01      7.75          NaN          1037.10   \n",
       "\n",
       "              Basin Footprint (in-mi)  Total Footage (LF)  \n",
       "Flow Monitor                                               \n",
       "BC01                           153.97             56611.0  \n",
       "BC01A                           57.28             19959.0  \n",
       "BC02                            33.79             22305.0  \n",
       "BC03                            85.21             52062.0  \n",
       "BC05                           129.48             85344.0  "
      ]
     },
     "execution_count": 10,
     "metadata": {},
     "output_type": "execute_result"
    }
   ],
   "source": [
    "import pandas as pd\n",
    "\n",
    "def findDiameter(filename, fmname):\n",
    "    df = pd.read_csv(filename,\n",
    "        index_col=0,\n",
    "        sep='\\t')\n",
    "    diameter = df.loc[fmname,'Diameter']\n",
    "    return(diameter)\n",
    "\n",
    "homeDir = 'P:\\\\PW-WATER SERVICES\\\\TECHNICAL SERVICES\\\\Anna'\n",
    "fmdataFile = homeDir + '\\\\FMdata.csv'\n",
    "dfDetails = pd.read_csv(\n",
    "    fmdataFile,\n",
    "    index_col=0,\n",
    "    dtype = {\n",
    "            'Flow Monitor' : 'object',\n",
    "            'Rain Gage' : 'object',\n",
    "            'Diameter' : np.float64,\n",
    "            'Linear Feet' : np.float64,\n",
    "            'Basin Area (Ac)' : np.float64,\n",
    "            'Bassin Footprint (in-mi)' : np.float64,\n",
    "            'Total Footage (LF)' : np.float64\n",
    "        })\n",
    "dfDetails[dfDetails==9999.0] = float('NaN')\n",
    "dfDetails.head()"
   ]
  },
  {
   "cell_type": "code",
   "execution_count": 58,
   "metadata": {},
   "outputs": [],
   "source": [
    "fmname = 'BC32'\n",
    "diameter = dfDetails.loc[fmname,'Diameter']\n",
    "df = flowDict[fmname]\n",
    "\n",
    "depth = np.linspace(0.001, diameter, 50)"
   ]
  },
  {
   "cell_type": "code",
   "execution_count": 59,
   "metadata": {},
   "outputs": [],
   "source": [
    "th = 2 * np.arccos(1 - 2 * depth / diameter)\n",
    "A = (diameter ** 2 / 8) * (th - np.sin(th))\n",
    "B = diameter * np.sin(th / 2)\n",
    "dh = A / B\n",
    "\n",
    "g = 32.2 * 12 #in/s^2\n",
    "Fr = 1\n",
    "vFr = Fr * np.sqrt(g * dh) / 12"
   ]
  },
  {
   "cell_type": "code",
   "execution_count": 111,
   "metadata": {},
   "outputs": [
    {
     "data": {
      "image/png": "[encoded data removed]",
      "text/plain": [
       "<Figure size 360x288 with 2 Axes>"
      ]
     },
     "metadata": {
      "needs_background": "light"
     },
     "output_type": "display_data"
    }
   ],
   "source": [
    "fmname = 'BC19A'\n",
    "diameter = dfDetails.loc[fmname,'Diameter']\n",
    "df = flowDict[fmname]\n",
    "\n",
    "cv = np.linspace(\n",
    "    df.index[0].month,\n",
    "    df.index[-1].month,\n",
    "    len(df.index))\n",
    "fig, ax = plt.subplots(figsize=(5,4))\n",
    "plt.scatter(\n",
    "    df['v (ft/s)'].values,\n",
    "    df['y (in)'].values,\n",
    "    marker = '.',\n",
    "    alpha = 0.8,\n",
    "    c = cv,\n",
    "    cmap = matplotlib.cm.get_cmap(\n",
    "        name = 'tab20b',\n",
    "        lut = list(set(df.index.month))[-1]\n",
    "                - list(set(df.index.month))[0] + 1))\n",
    "rightLim = np.ceil(df['v (ft/s)'].max())\n",
    "topLim = np.ceil(max(df['y (in)'].max(), diameter))\n",
    "ax.set_ylim(\n",
    "    top = 1.1 * topLim,\n",
    "    bottom = 0)\n",
    "ax.set_xlim(\n",
    "    left = 0,\n",
    "    right = 1.05 * rightLim)\n",
    "cb = plt.colorbar(\n",
    "    ticks = list(set(df.index.month)))\n",
    "cb.ax.set_title('Month')\n",
    "# plot diameter\n",
    "ax.plot(\n",
    "    [0, 1.1 * rightLim],\n",
    "    [diameter, diameter],\n",
    "    linewidth = 2.0,\n",
    "    linestyle = '-',\n",
    "    color = 'xkcd:grey')\n",
    "# CRITICAL FROUDE NO. LINE\n",
    "#ax.plot(\n",
    "#    vFr,\n",
    "#    dh,\n",
    "#    linewidth = 2.0,\n",
    "#    linestyle = ':',\n",
    "#    color = 'xkcd:charcoal')\n",
    "ax.text(0.1, diameter + 0.02 * topLim, \n",
    "        s = 'Diameter = ' + str(diameter) + '\"',\n",
    "       color = 'xkcd:grey')\n",
    "ax.set_xlabel('Velocity (ft/s)')\n",
    "ax.set_ylabel('Depth (in)')\n",
    "ax.xaxis.grid(\n",
    "        True, \n",
    "        linestyle = '-',\n",
    "        which = 'major',\n",
    "        color = 'xkcd:charcoal',\n",
    "        alpha = 0.25)\n",
    "ax.yaxis.grid(\n",
    "        True, \n",
    "        linestyle = '-',\n",
    "        which = 'major',\n",
    "        color = 'xkcd:charcoal',\n",
    "        alpha = 0.25)\n",
    "plt.tight_layout()"
   ]
  },
  {
   "cell_type": "code",
   "execution_count": 66,
   "metadata": {},
   "outputs": [
    {
     "data": {
      "text/plain": [
       "0.025608194622279125"
      ]
     },
     "execution_count": 66,
     "metadata": {},
     "output_type": "execute_result"
    }
   ],
   "source": [
    "2 / (1.1 * topLim)"
   ]
  },
  {
   "cell_type": "code",
   "execution_count": 276,
   "metadata": {},
   "outputs": [
    {
     "data": {
      "text/plain": [
       "[<matplotlib.lines.Line2D at 0x26d31cc0>]"
      ]
     },
     "execution_count": 276,
     "metadata": {},
     "output_type": "execute_result"
    },
    {
     "data": {
      "image/png": "[encoded data removed]",
      "text/plain": [
       "<Figure size 432x288 with 2 Axes>"
      ]
     },
     "metadata": {
      "needs_background": "light"
     },
     "output_type": "display_data"
    }
   ],
   "source": [
    "fmname = 'BC30'\n",
    "diameter = dfDetails.loc[fmname,'Diameter']\n",
    "df = flowDict[fmname]\n",
    "cv = np.linspace(\n",
    "    df.index[0].month,\n",
    "    df.index[-1].month,\n",
    "    len(df.index))\n",
    "fig, ax = plt.subplots()\n",
    "plt.scatter(\n",
    "    df['y (in)'].values,\n",
    "    df['v (ft/s)'].values,\n",
    "    marker = '.',\n",
    "    alpha = 1,\n",
    "    c = cv,\n",
    "    cmap = matplotlib.cm.get_cmap(\n",
    "        name = 'twilight_shifted',\n",
    "        lut = list(set(df.index.month))[-1]\n",
    "                - list(set(df.index.month))[0] + 1))\n",
    "ax.set_xlim(\n",
    "    right = 1.1 * np.ceil(df['y (in)'].max()),\n",
    "    left = 0)\n",
    "ax.set_ylim(\n",
    "    bottom = 0,\n",
    "    top = np.ceil(df['v (ft/s)'].max()))\n",
    "cb = plt.colorbar(\n",
    "    ticks = list(set(df.index.month)))\n",
    "cb.ax.set_title('Month')\n",
    "# plot diameter\n",
    "ax.plot(\n",
    "    [diameter, diameter],\n",
    "    [0, np.ceil(df['v (ft/s)'].max())],\n",
    "    linewidth = 2.0,\n",
    "    linestyle = ':',\n",
    "    color = 'xkcd:charcoal')"
   ]
  },
  {
   "cell_type": "code",
   "execution_count": 106,
   "metadata": {},
   "outputs": [
    {
     "data": {
      "text/plain": [
       "11.84"
      ]
     },
     "execution_count": 106,
     "metadata": {},
     "output_type": "execute_result"
    }
   ],
   "source": [
    "fmname = 'BC19A'\n",
    "df = flowDict[fmname]\n",
    "depth = df['y (in)'].values\n",
    "dmin = df['y (in)'].min()\n",
    "diameter = dfDetails.loc[fmname,'Diameter']\n",
    "\n",
    "# initialize\n",
    "ddog = 0\n",
    "th = 2 * np.arccos(1 - 2 * df['y (in)'].values / diameter)\n",
    "A = (diameter ** 2 / 8) * (th - np.sin(th))\n",
    "P = diameter * th / 2"
   ]
  },
  {
   "cell_type": "code",
   "execution_count": null,
   "metadata": {},
   "outputs": [],
   "source": []
  }
 ],
 "metadata": {
  "kernelspec": {
   "display_name": "Python 3",
   "language": "python",
   "name": "python3"
  },
  "language_info": {
   "codemirror_mode": {
    "name": "ipython",
    "version": 3
   },
   "file_extension": ".py",
   "mimetype": "text/x-python",
   "name": "python",
   "nbconvert_exporter": "python",
   "pygments_lexer": "ipython3",
   "version": "3.7.3"
  }
 },
 "nbformat": 4,
 "nbformat_minor": 2
}
