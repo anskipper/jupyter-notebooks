{
 "cells": [
  {
   "cell_type": "code",
   "execution_count": 32,
   "metadata": {},
   "outputs": [],
   "source": [
    "from os import walk\n",
    "\n",
    "def findTextFiles(readDir):\n",
    "    d = []\n",
    "    f = []\n",
    "    t = []\n",
    "    c = []\n",
    "    for (root,dirs,files) in walk(readDir,topdown=True):\n",
    "        d.extend(dirs)\n",
    "        f.extend(files)\n",
    "        for x in f:\n",
    "            if x.endswith('.txt'):\n",
    "                t.extend([x])\n",
    "            elif x.endswith('csv'):\n",
    "                 c.extend([x])                   \n",
    "        d = sorted(d)\n",
    "        t = sorted(t)\n",
    "        c = sorted(c)\n",
    "        return(d,t,c)\n",
    "    \n",
    "def readUSGS(filename,headerNum):\n",
    "    df = pd.read_csv(filename, sep='\t',header=headerNum,index_col=2)\n",
    "    df = df.drop(['agency_cd','site_no','tz_cd'],axis=1)\n",
    "    df = df.drop(['20d'])\n",
    "    df.index = pd.to_datetime(df.index)\n",
    "    #rename the parameter columns to better names e.g., y-gage-ft, Q-cfs, rain-in\n",
    "    # depth always reported as GAGE DEPTH\n",
    "    parameterNames = ['river elevation', 'resevoir elevation', 'Q-river', 'rain-in']\n",
    "    parameterList = ['00065','00062','00060','00045']\n",
    "    for j in range(0,len(df.columns),2):\n",
    "        #paramterCode format #####_000##\n",
    "        parameterCode = df.columns[j].split('_',1)[1]\n",
    "        parameterName = parameterNames[parameterList.index(parameterCode)]\n",
    "        df = df.rename(columns={df.columns[j] : parameterName, df.columns[j+1] : parameterName + '-Quality'})\n",
    "        #also make the y, Q, res-el,and/or rain values numeric\n",
    "        df[df.columns[j]]=df[df.columns[j]].astype('float64')\n",
    "    return(df)"
   ]
  },
  {
   "cell_type": "code",
   "execution_count": 206,
   "metadata": {},
   "outputs": [],
   "source": [
    "flowDir = 'P:\\\\PW-WATER SERVICES\\\\TECHNICAL SERVICES\\\\Anna\\\\Storm Analysis\\\\FlowData_20190605_20190612'\n",
    "usgsDir = 'H:\\\\Big Creek\\\\USGS River\\\\June8th'\n",
    "\n",
    "import pandas as pd\n",
    "\n",
    "folders,usgsSites,fm2usgs = findTextFiles(usgsDir)"
   ]
  },
  {
   "cell_type": "code",
   "execution_count": 216,
   "metadata": {},
   "outputs": [
    {
     "data": {
      "text/plain": [
       "'USGS02335790_15min_20190605-20190612.txt'"
      ]
     },
     "execution_count": 216,
     "metadata": {},
     "output_type": "execute_result"
    }
   ],
   "source": [
    "site = usgsSites[4]\n",
    "'0' + site.split('_')[0].split('S0')[1]\n",
    "site.startswith('USGS')\n",
    "\n",
    "headNums = {'02335580' : 29,\n",
    "            '02335700' : 29,\n",
    "            '02335757' : 27,\n",
    "            '02335790' : 30,\n",
    "            '02335450' : 27,\n",
    "            '02335810' : 29}\n",
    "site"
   ]
  },
  {
   "cell_type": "code",
   "execution_count": 217,
   "metadata": {},
   "outputs": [
    {
     "data": {
      "text/plain": [
       "'02335790'"
      ]
     },
     "execution_count": 217,
     "metadata": {},
     "output_type": "execute_result"
    }
   ],
   "source": [
    "fn = usgsDir + '\\\\' + usgsSites[4]\n",
    "siteNum = '0' + site.split('_')[0].split('S0')[1]\n",
    "df = readUSGS(filename=fn,headerNum=headNums[siteNum])\n",
    "df.head()\n",
    "siteNum"
   ]
  },
  {
   "cell_type": "code",
   "execution_count": 211,
   "metadata": {},
   "outputs": [],
   "source": [
    "usgsDict = {}\n",
    "usgsDict[siteNum] = df"
   ]
  },
  {
   "cell_type": "code",
   "execution_count": 212,
   "metadata": {},
   "outputs": [
    {
     "data": {
      "text/html": [
       "<div>\n",
       "<style scoped>\n",
       "    .dataframe tbody tr th:only-of-type {\n",
       "        vertical-align: middle;\n",
       "    }\n",
       "\n",
       "    .dataframe tbody tr th {\n",
       "        vertical-align: top;\n",
       "    }\n",
       "\n",
       "    .dataframe thead th {\n",
       "        text-align: right;\n",
       "    }\n",
       "</style>\n",
       "<table border=\"1\" class=\"dataframe\">\n",
       "  <thead>\n",
       "    <tr style=\"text-align: right;\">\n",
       "      <th></th>\n",
       "      <th>rain-in</th>\n",
       "      <th>rain-in-Quality</th>\n",
       "      <th>river elevation</th>\n",
       "      <th>river elevation-Quality</th>\n",
       "      <th>Q-river</th>\n",
       "      <th>Q-river-Quality</th>\n",
       "    </tr>\n",
       "    <tr>\n",
       "      <th>datetime</th>\n",
       "      <th></th>\n",
       "      <th></th>\n",
       "      <th></th>\n",
       "      <th></th>\n",
       "      <th></th>\n",
       "      <th></th>\n",
       "    </tr>\n",
       "  </thead>\n",
       "  <tbody>\n",
       "    <tr>\n",
       "      <th>2019-06-05 00:00:00</th>\n",
       "      <td>0.0</td>\n",
       "      <td>P</td>\n",
       "      <td>1.28</td>\n",
       "      <td>P</td>\n",
       "      <td>9.12</td>\n",
       "      <td>P</td>\n",
       "    </tr>\n",
       "    <tr>\n",
       "      <th>2019-06-05 00:15:00</th>\n",
       "      <td>0.0</td>\n",
       "      <td>P</td>\n",
       "      <td>1.28</td>\n",
       "      <td>P</td>\n",
       "      <td>9.12</td>\n",
       "      <td>P</td>\n",
       "    </tr>\n",
       "    <tr>\n",
       "      <th>2019-06-05 00:30:00</th>\n",
       "      <td>0.0</td>\n",
       "      <td>P</td>\n",
       "      <td>1.28</td>\n",
       "      <td>P</td>\n",
       "      <td>9.12</td>\n",
       "      <td>P</td>\n",
       "    </tr>\n",
       "    <tr>\n",
       "      <th>2019-06-05 00:45:00</th>\n",
       "      <td>0.0</td>\n",
       "      <td>P</td>\n",
       "      <td>1.28</td>\n",
       "      <td>P</td>\n",
       "      <td>9.12</td>\n",
       "      <td>P</td>\n",
       "    </tr>\n",
       "    <tr>\n",
       "      <th>2019-06-05 01:00:00</th>\n",
       "      <td>0.0</td>\n",
       "      <td>P</td>\n",
       "      <td>1.28</td>\n",
       "      <td>P</td>\n",
       "      <td>9.12</td>\n",
       "      <td>P</td>\n",
       "    </tr>\n",
       "  </tbody>\n",
       "</table>\n",
       "</div>"
      ],
      "text/plain": [
       "                     rain-in rain-in-Quality  river elevation  \\\n",
       "datetime                                                        \n",
       "2019-06-05 00:00:00      0.0               P             1.28   \n",
       "2019-06-05 00:15:00      0.0               P             1.28   \n",
       "2019-06-05 00:30:00      0.0               P             1.28   \n",
       "2019-06-05 00:45:00      0.0               P             1.28   \n",
       "2019-06-05 01:00:00      0.0               P             1.28   \n",
       "\n",
       "                    river elevation-Quality  Q-river Q-river-Quality  \n",
       "datetime                                                              \n",
       "2019-06-05 00:00:00                       P     9.12               P  \n",
       "2019-06-05 00:15:00                       P     9.12               P  \n",
       "2019-06-05 00:30:00                       P     9.12               P  \n",
       "2019-06-05 00:45:00                       P     9.12               P  \n",
       "2019-06-05 01:00:00                       P     9.12               P  "
      ]
     },
     "execution_count": 212,
     "metadata": {},
     "output_type": "execute_result"
    }
   ],
   "source": [
    "usgsDict[siteNum].head()"
   ]
  },
  {
   "cell_type": "code",
   "execution_count": 219,
   "metadata": {},
   "outputs": [
    {
     "data": {
      "text/html": [
       "<div>\n",
       "<style scoped>\n",
       "    .dataframe tbody tr th:only-of-type {\n",
       "        vertical-align: middle;\n",
       "    }\n",
       "\n",
       "    .dataframe tbody tr th {\n",
       "        vertical-align: top;\n",
       "    }\n",
       "\n",
       "    .dataframe thead th {\n",
       "        text-align: right;\n",
       "    }\n",
       "</style>\n",
       "<table border=\"1\" class=\"dataframe\">\n",
       "  <thead>\n",
       "    <tr style=\"text-align: right;\">\n",
       "      <th></th>\n",
       "      <th>USGSID</th>\n",
       "      <th>Closest</th>\n",
       "      <th>US/DS</th>\n",
       "    </tr>\n",
       "    <tr>\n",
       "      <th>FID</th>\n",
       "      <th></th>\n",
       "      <th></th>\n",
       "      <th></th>\n",
       "    </tr>\n",
       "  </thead>\n",
       "  <tbody>\n",
       "    <tr>\n",
       "      <th>BC01</th>\n",
       "      <td>2335790</td>\n",
       "      <td>1</td>\n",
       "      <td>DS</td>\n",
       "    </tr>\n",
       "    <tr>\n",
       "      <th>BC01A</th>\n",
       "      <td>2335790</td>\n",
       "      <td>0</td>\n",
       "      <td>US</td>\n",
       "    </tr>\n",
       "    <tr>\n",
       "      <th>BC02</th>\n",
       "      <td>2335790</td>\n",
       "      <td>0</td>\n",
       "      <td>US</td>\n",
       "    </tr>\n",
       "    <tr>\n",
       "      <th>BC03</th>\n",
       "      <td>2335790</td>\n",
       "      <td>0</td>\n",
       "      <td>US</td>\n",
       "    </tr>\n",
       "    <tr>\n",
       "      <th>BC05</th>\n",
       "      <td>2335790</td>\n",
       "      <td>0</td>\n",
       "      <td>US</td>\n",
       "    </tr>\n",
       "  </tbody>\n",
       "</table>\n",
       "</div>"
      ],
      "text/plain": [
       "        USGSID  Closest US/DS\n",
       "FID                          \n",
       "BC01   2335790        1    DS\n",
       "BC01A  2335790        0    US\n",
       "BC02   2335790        0    US\n",
       "BC03   2335790        0    US\n",
       "BC05   2335790        0    US"
      ]
     },
     "execution_count": 219,
     "metadata": {},
     "output_type": "execute_result"
    }
   ],
   "source": [
    "df = pd.read_csv(usgsDir + '\\\\' + fm2usgs[0],index_col=0)\n",
    "df.head()"
   ]
  },
  {
   "cell_type": "code",
   "execution_count": 220,
   "metadata": {},
   "outputs": [
    {
     "data": {
      "text/plain": [
       "0"
      ]
     },
     "execution_count": 220,
     "metadata": {},
     "output_type": "execute_result"
    }
   ],
   "source": [
    "df.loc['BC03','Closest']"
   ]
  },
  {
   "cell_type": "code",
   "execution_count": 221,
   "metadata": {},
   "outputs": [],
   "source": [
    "def readSliicercsv(filename):\n",
    "    df = pd.read_csv(filename,index_col = 0,header=2,usecols=[0,1,2,3,4],names=['Datetime','sdepth (in)','y (in)','v (ft/s)','Q (MGD)'])\n",
    "    df.index = pd.to_datetime(df.index)\n",
    "    return(df)\n",
    "\n",
    "flowDir = 'P:\\\\PW-WATER SERVICES\\\\TECHNICAL SERVICES\\\\Anna\\\\Storm Analysis\\\\FlowData_20190605_20190612'\n",
    "f = 'BC03_29880727.csv'\n",
    "dfflow = readSliicercsv(flowDir+'\\\\'+f)"
   ]
  },
  {
   "cell_type": "code",
   "execution_count": 215,
   "metadata": {},
   "outputs": [
    {
     "data": {
      "text/plain": [
       "<matplotlib.axes._subplots.AxesSubplot at 0xcc490f0>"
      ]
     },
     "execution_count": 215,
     "metadata": {},
     "output_type": "execute_result"
    },
    {
     "data": {
      "image/png": "[encoded data removed]",
      "text/plain": [
       "<Figure size 432x288 with 2 Axes>"
      ]
     },
     "metadata": {
      "needs_background": "light"
     },
     "output_type": "display_data"
    }
   ],
   "source": [
    "dfriver = usgsDict[siteNum]\n",
    "import matplotlib.pyplot as plt\n",
    "\n",
    "fig,ax = plt.subplots()\n",
    "dfriver['river elevation'].plot(kind='line',ax=ax,fontsize=14,color='xkcd:denim')\n",
    "flowDir = 'P:\\\\PW-WATER SERVICES\\\\TECHNICAL SERVICES\\\\Anna\\\\Storm Analysis\\\\FlowData_20190605_20190612'\n",
    "ax2 = ax.twinx()\n",
    "dfflow['Q (MGD)'].plot(kind='line',ax=ax2,fontsize=14,color='xkcd:pumpkin')\n"
   ]
  },
  {
   "cell_type": "code",
   "execution_count": 222,
   "metadata": {},
   "outputs": [],
   "source": [
    "def getTimeDiff(date1,date2,returnState):\n",
    "    date1 = pd.to_datetime(date1)\n",
    "    date2 = pd.to_datetime(date2)\n",
    "    if date2 >= date1:\n",
    "        dateDiff = date2 - date1\n",
    "    else:\n",
    "        dateDiff = date1 - date2\n",
    "    # convert to days and seconds\n",
    "    days, seconds = dateDiff.days, dateDiff.seconds\n",
    "    # covert to total hours and total minutes\n",
    "    hours = days * 24 + seconds // 3600\n",
    "    minutes = (seconds % 3600) // 60\n",
    "    returnOptions = {'days': days, 'hours': hours, 'minutes' : minutes, 'seconds' : seconds}\n",
    "    return(returnOptions[returnState])\n",
    "\n",
    "def constructMeanFlow(tStart,tEnd,dfMeans):\n",
    "    daysDiff = getTimeDiff(tStart,tEnd,'days')\n",
    "    wVals = [(tStart + dt.timedelta(days=x)).weekday() for x in range(0,daysDiff+1)]    \n",
    "    meanFlow = []\n",
    "    dateTimes = []\n",
    "    day = dt.datetime(tStart.year,tStart.month,tStart.day)\n",
    "    for k in range(0,len(wVals)):\n",
    "        if wVals[k] > 4: #WEEKEND\n",
    "            col = 'Weekend'\n",
    "        else:\n",
    "            col = 'Weekday'\n",
    "        if k==0: # pre-comp period\n",
    "            meanFlow.extend(dfMeans.loc[tStart.time():,col])\n",
    "            h = getTimeDiff(tStart.date() + dt.timedelta(days=1),tStart,returnState='hours')\n",
    "            m = getTimeDiff(tStart.date() + dt.timedelta(days=1),tStart,returnState='minutes')\n",
    "            dateTimes.extend([tStart + dt.timedelta(minutes=x) for x in range(0,h*60 + m,15)])\n",
    "        elif k==len(wVals)-1: # end of r2\n",
    "            meanFlow.extend(dfMeans.loc[:tEnd.time(),col])\n",
    "            h = getTimeDiff(tEnd,tEnd.date(),returnState='hours')\n",
    "            m = getTimeDiff(tEnd,tEnd.date(),returnState='minutes')\n",
    "            dateTimes.extend([dt.datetime(tEnd.year,tEnd.month,tEnd.day) \n",
    "                        + dt.timedelta(minutes=x) for x in range(0,h*60 + m + 15,15)])\n",
    "        else:\n",
    "            meanFlow.extend(dfMeans.loc[:,col])\n",
    "            day += dt.timedelta(days=1)\n",
    "            dateTimes.extend([day + dt.timedelta(minutes=x) for x in range(0,24*60,15)])\n",
    "        # construct the dataframe for plotting\n",
    "    df = pd.Series(data=meanFlow,index=dateTimes,name='Mean Flow')\n",
    "    return (df)\n",
    "\n",
    "def readTotalFlow(filename):\n",
    "    df= pd.read_csv(filename,index_col=0)\n",
    "    df.index = pd.to_datetime(df.index)\n",
    "    df.index = df.index.time\n",
    "    return(df)\n",
    "\n",
    "import datetime as dt\n",
    "\n",
    "tStart = dt.datetime(2019,6,5)\n",
    "tEnd = dt.datetime(2019,6,12,23,45)\n",
    "fmname = 'BC03'\n",
    "meanFile = 'P:\\\\PW-WATER SERVICES\\\\TECHNICAL SERVICES\\\\Anna\\\\2018\\\\Big Creek' + '\\\\' + fmname + '\\\\' + fmname + '_meanFlows.csv'\n",
    "dfMeans = readTotalFlow(meanFile)\n",
    "meanFlow = constructMeanFlow(tStart,tEnd,dfMeans)\n",
    "\n"
   ]
  },
  {
   "cell_type": "code",
   "execution_count": 173,
   "metadata": {},
   "outputs": [
    {
     "data": {
      "text/plain": [
       "768"
      ]
     },
     "execution_count": 173,
     "metadata": {},
     "output_type": "execute_result"
    }
   ],
   "source": [
    "\n",
    "wVals = [(tStart + dt.timedelta(days=x)).weekday() for x in range(0,daysDiff+1)]\n",
    "tStart = dt.datetime(2019,6,5)\n",
    "tEnd = dt.datetime(2019,6,12,23,45)\n",
    "meanFlow = []\n",
    "dateTimes = []\n",
    "day = dt.datetime(tStart.year,tStart.month,tStart.day)\n",
    "for k in range(0,len(wVals)):\n",
    "    if wVals[k] > 4: #WEEKEND\n",
    "        col = 'Weekend'\n",
    "    else:\n",
    "        col = 'Weekday'\n",
    "    if k==0: # pre-comp period\n",
    "        meanFlow.extend(dfMeans.loc[tStart.time():,col])\n",
    "        h = getTimeDiff(tStart.date() + dt.timedelta(days=1),tStart,returnState='hours')\n",
    "        m = getTimeDiff(tStart.date() + dt.timedelta(days=1),tStart,returnState='minutes')\n",
    "        dateTimes.extend([tStart + dt.timedelta(minutes=x) for x in range(0,h*60 + m,15)])\n",
    "    elif k==len(wVals)-1: # end of r2\n",
    "        meanFlow.extend(dfMeans.loc[:tEnd.time(),col])\n",
    "        h = getTimeDiff(tEnd,tEnd.date(),returnState='hours')\n",
    "        m = getTimeDiff(tEnd,tEnd.date(),returnState='minutes')\n",
    "        dateTimes.extend([dt.datetime(tEnd.year,tEnd.month,tEnd.day) \n",
    "                        + dt.timedelta(minutes=x) for x in range(0,h*60 + m + 15,15)])\n",
    "    else:\n",
    "        meanFlow.extend(dfMeans.loc[:,col])\n",
    "        day += dt.timedelta(days=1)\n",
    "        dateTimes.extend([day + dt.timedelta(minutes=x) for x in range(0,24*60,15)])\n",
    "\n",
    "len(dateTimes)"
   ]
  },
  {
   "cell_type": "code",
   "execution_count": 223,
   "metadata": {},
   "outputs": [
    {
     "data": {
      "text/plain": [
       "Text(0.5, 0, 'Date')"
      ]
     },
     "execution_count": 223,
     "metadata": {},
     "output_type": "execute_result"
    },
    {
     "data": {
      "image/png": "[encoded data removed]",
      "text/plain": [
       "<Figure size 432x288 with 2 Axes>"
      ]
     },
     "metadata": {
      "needs_background": "light"
     },
     "output_type": "display_data"
    }
   ],
   "source": [
    "h = getTimeDiff(tStart.date() + dt.timedelta(days=1),tStart,returnState='hours')\n",
    "m = getTimeDiff(tStart.date() + dt.timedelta(days=1),tStart,returnState='minutes')\n",
    "h*60/15\n",
    "list(range(0,len(wVals)))\n",
    "\n",
    "dfflow['net'] = dfflow['Q (MGD)'].values - meanFlow.values\n",
    "mask = dfflow['net']<0\n",
    "dfflow.loc[mask,'net'] = 0\n",
    "\n",
    "fig,ax = plt.subplots()\n",
    "\n",
    "ax.set_ylabel('Net Q (MGD)',color='xkcd:scarlet',\n",
    "               rotation='vertical',fontsize=14)\n",
    "ax.tick_params(axis='y',labelcolor='xkcd:scarlet')\n",
    "dfflow['net'].plot(kind='line',ax=ax,fontsize=14,color='xkcd:scarlet')\n",
    "\n",
    "ax2 = ax.twinx()\n",
    "ax2.set_ylabel('River Stage (ft)',color='xkcd:denim',\n",
    "               rotation='vertical',fontsize=14)\n",
    "ax2.tick_params(axis='y',labelcolor='xkcd:denim')\n",
    "dfriver['river elevation'].plot(kind='line',ax=ax2,fontsize=14,color='xkcd:denim')\n",
    "ax2.set_xlabel('Date')"
   ]
  },
  {
   "cell_type": "code",
   "execution_count": 224,
   "metadata": {},
   "outputs": [],
   "source": [
    "y = dfflow['Q (MGD)'].values - meanFlow.values"
   ]
  },
  {
   "cell_type": "code",
   "execution_count": 228,
   "metadata": {},
   "outputs": [
    {
     "data": {
      "text/plain": [
       "Text(0, 0.5, 'Sewer (MGD)')"
      ]
     },
     "execution_count": 228,
     "metadata": {},
     "output_type": "execute_result"
    },
    {
     "data": {
      "image/png": "[encoded data removed]",
      "text/plain": [
       "<Figure size 432x288 with 1 Axes>"
      ]
     },
     "metadata": {
      "needs_background": "light"
     },
     "output_type": "display_data"
    }
   ],
   "source": [
    "x = dfriver['river elevation'].values\n",
    "y = dfflow['net']\n",
    "cv = range(0,len(dfflow.index))\n",
    "\n",
    "fig,ax = plt.subplots()\n",
    "ax.plot(x,y,'.')\n",
    "ax.set_xlabel('River (ft)')\n",
    "ax.set_ylabel('Sewer (MGD)')"
   ]
  },
  {
   "cell_type": "code",
   "execution_count": 251,
   "metadata": {},
   "outputs": [
    {
     "data": {
      "text/plain": [
       "array([ 5.        ,  5.00912647,  5.01825293,  5.0273794 ,  5.03650587,\n",
       "        5.04563233,  5.0547588 ,  5.06388527,  5.07301173,  5.0821382 ,\n",
       "        5.09126467,  5.10039113,  5.1095176 ,  5.11864407,  5.12777053,\n",
       "        5.136897  ,  5.14602347,  5.15514993,  5.1642764 ,  5.17340287,\n",
       "        5.18252934,  5.1916558 ,  5.20078227,  5.20990874,  5.2190352 ,\n",
       "        5.22816167,  5.23728814,  5.2464146 ,  5.25554107,  5.26466754,\n",
       "        5.273794  ,  5.28292047,  5.29204694,  5.3011734 ,  5.31029987,\n",
       "        5.31942634,  5.3285528 ,  5.33767927,  5.34680574,  5.3559322 ,\n",
       "        5.36505867,  5.37418514,  5.3833116 ,  5.39243807,  5.40156454,\n",
       "        5.410691  ,  5.41981747,  5.42894394,  5.4380704 ,  5.44719687,\n",
       "        5.45632334,  5.4654498 ,  5.47457627,  5.48370274,  5.4928292 ,\n",
       "        5.50195567,  5.51108214,  5.5202086 ,  5.52933507,  5.53846154,\n",
       "        5.54758801,  5.55671447,  5.56584094,  5.57496741,  5.58409387,\n",
       "        5.59322034,  5.60234681,  5.61147327,  5.62059974,  5.62972621,\n",
       "        5.63885267,  5.64797914,  5.65710561,  5.66623207,  5.67535854,\n",
       "        5.68448501,  5.69361147,  5.70273794,  5.71186441,  5.72099087,\n",
       "        5.73011734,  5.73924381,  5.74837027,  5.75749674,  5.76662321,\n",
       "        5.77574967,  5.78487614,  5.79400261,  5.80312907,  5.81225554,\n",
       "        5.82138201,  5.83050847,  5.83963494,  5.84876141,  5.85788787,\n",
       "        5.86701434,  5.87614081,  5.88526728,  5.89439374,  5.90352021,\n",
       "        5.91264668,  5.92177314,  5.93089961,  5.94002608,  5.94915254,\n",
       "        5.95827901,  5.96740548,  5.97653194,  5.98565841,  5.99478488,\n",
       "        6.00391134,  6.01303781,  6.02216428,  6.03129074,  6.04041721,\n",
       "        6.04954368,  6.05867014,  6.06779661,  6.07692308,  6.08604954,\n",
       "        6.09517601,  6.10430248,  6.11342894,  6.12255541,  6.13168188,\n",
       "        6.14080834,  6.14993481,  6.15906128,  6.16818774,  6.17731421,\n",
       "        6.18644068,  6.19556714,  6.20469361,  6.21382008,  6.22294654,\n",
       "        6.23207301,  6.24119948,  6.25032595,  6.25945241,  6.26857888,\n",
       "        6.27770535,  6.28683181,  6.29595828,  6.30508475,  6.31421121,\n",
       "        6.32333768,  6.33246415,  6.34159061,  6.35071708,  6.35984355,\n",
       "        6.36897001,  6.37809648,  6.38722295,  6.39634941,  6.40547588,\n",
       "        6.41460235,  6.42372881,  6.43285528,  6.44198175,  6.45110821,\n",
       "        6.46023468,  6.46936115,  6.47848761,  6.48761408,  6.49674055,\n",
       "        6.50586701,  6.51499348,  6.52411995,  6.53324641,  6.54237288,\n",
       "        6.55149935,  6.56062581,  6.56975228,  6.57887875,  6.58800522,\n",
       "        6.59713168,  6.60625815,  6.61538462,  6.62451108,  6.63363755,\n",
       "        6.64276402,  6.65189048,  6.66101695,  6.67014342,  6.67926988,\n",
       "        6.68839635,  6.69752282,  6.70664928,  6.71577575,  6.72490222,\n",
       "        6.73402868,  6.74315515,  6.75228162,  6.76140808,  6.77053455,\n",
       "        6.77966102,  6.78878748,  6.79791395,  6.80704042,  6.81616688,\n",
       "        6.82529335,  6.83441982,  6.84354628,  6.85267275,  6.86179922,\n",
       "        6.87092568,  6.88005215,  6.88917862,  6.89830508,  6.90743155,\n",
       "        6.91655802,  6.92568449,  6.93481095,  6.94393742,  6.95306389,\n",
       "        6.96219035,  6.97131682,  6.98044329,  6.98956975,  6.99869622,\n",
       "        7.00782269,  7.01694915,  7.02607562,  7.03520209,  7.04432855,\n",
       "        7.05345502,  7.06258149,  7.07170795,  7.08083442,  7.08996089,\n",
       "        7.09908735,  7.10821382,  7.11734029,  7.12646675,  7.13559322,\n",
       "        7.14471969,  7.15384615,  7.16297262,  7.17209909,  7.18122555,\n",
       "        7.19035202,  7.19947849,  7.20860495,  7.21773142,  7.22685789,\n",
       "        7.23598435,  7.24511082,  7.25423729,  7.26336375,  7.27249022,\n",
       "        7.28161669,  7.29074316,  7.29986962,  7.30899609,  7.31812256,\n",
       "        7.32724902,  7.33637549,  7.34550196,  7.35462842,  7.36375489,\n",
       "        7.37288136,  7.38200782,  7.39113429,  7.40026076,  7.40938722,\n",
       "        7.41851369,  7.42764016,  7.43676662,  7.44589309,  7.45501956,\n",
       "        7.46414602,  7.47327249,  7.48239896,  7.49152542,  7.50065189,\n",
       "        7.50977836,  7.51890482,  7.52803129,  7.53715776,  7.54628422,\n",
       "        7.55541069,  7.56453716,  7.57366362,  7.58279009,  7.59191656,\n",
       "        7.60104302,  7.61016949,  7.61929596,  7.62842243,  7.63754889,\n",
       "        7.64667536,  7.65580183,  7.66492829,  7.67405476,  7.68318123,\n",
       "        7.69230769,  7.70143416,  7.71056063,  7.71968709,  7.72881356,\n",
       "        7.73794003,  7.74706649,  7.75619296,  7.76531943,  7.77444589,\n",
       "        7.78357236,  7.79269883,  7.80182529,  7.81095176,  7.82007823,\n",
       "        7.82920469,  7.83833116,  7.84745763,  7.85658409,  7.86571056,\n",
       "        7.87483703,  7.88396349,  7.89308996,  7.90221643,  7.91134289,\n",
       "        7.92046936,  7.92959583,  7.93872229,  7.94784876,  7.95697523,\n",
       "        7.96610169,  7.97522816,  7.98435463,  7.9934811 ,  8.00260756,\n",
       "        8.01173403,  8.0208605 ,  8.02998696,  8.03911343,  8.0482399 ,\n",
       "        8.05736636,  8.06649283,  8.0756193 ,  8.08474576,  8.09387223,\n",
       "        8.1029987 ,  8.11212516,  8.12125163,  8.1303781 ,  8.13950456,\n",
       "        8.14863103,  8.1577575 ,  8.16688396,  8.17601043,  8.1851369 ,\n",
       "        8.19426336,  8.20338983,  8.2125163 ,  8.22164276,  8.23076923,\n",
       "        8.2398957 ,  8.24902216,  8.25814863,  8.2672751 ,  8.27640156,\n",
       "        8.28552803,  8.2946545 ,  8.30378096,  8.31290743,  8.3220339 ,\n",
       "        8.33116037,  8.34028683,  8.3494133 ,  8.35853977,  8.36766623,\n",
       "        8.3767927 ,  8.38591917,  8.39504563,  8.4041721 ,  8.41329857,\n",
       "        8.42242503,  8.4315515 ,  8.44067797,  8.44980443,  8.4589309 ,\n",
       "        8.46805737,  8.47718383,  8.4863103 ,  8.49543677,  8.50456323,\n",
       "        8.5136897 ,  8.52281617,  8.53194263,  8.5410691 ,  8.55019557,\n",
       "        8.55932203,  8.5684485 ,  8.57757497,  8.58670143,  8.5958279 ,\n",
       "        8.60495437,  8.61408083,  8.6232073 ,  8.63233377,  8.64146023,\n",
       "        8.6505867 ,  8.65971317,  8.66883963,  8.6779661 ,  8.68709257,\n",
       "        8.69621904,  8.7053455 ,  8.71447197,  8.72359844,  8.7327249 ,\n",
       "        8.74185137,  8.75097784,  8.7601043 ,  8.76923077,  8.77835724,\n",
       "        8.7874837 ,  8.79661017,  8.80573664,  8.8148631 ,  8.82398957,\n",
       "        8.83311604,  8.8422425 ,  8.85136897,  8.86049544,  8.8696219 ,\n",
       "        8.87874837,  8.88787484,  8.8970013 ,  8.90612777,  8.91525424,\n",
       "        8.9243807 ,  8.93350717,  8.94263364,  8.9517601 ,  8.96088657,\n",
       "        8.97001304,  8.9791395 ,  8.98826597,  8.99739244,  9.0065189 ,\n",
       "        9.01564537,  9.02477184,  9.03389831,  9.04302477,  9.05215124,\n",
       "        9.06127771,  9.07040417,  9.07953064,  9.08865711,  9.09778357,\n",
       "        9.10691004,  9.11603651,  9.12516297,  9.13428944,  9.14341591,\n",
       "        9.15254237,  9.16166884,  9.17079531,  9.17992177,  9.18904824,\n",
       "        9.19817471,  9.20730117,  9.21642764,  9.22555411,  9.23468057,\n",
       "        9.24380704,  9.25293351,  9.26205997,  9.27118644,  9.28031291,\n",
       "        9.28943937,  9.29856584,  9.30769231,  9.31681877,  9.32594524,\n",
       "        9.33507171,  9.34419817,  9.35332464,  9.36245111,  9.37157757,\n",
       "        9.38070404,  9.38983051,  9.39895698,  9.40808344,  9.41720991,\n",
       "        9.42633638,  9.43546284,  9.44458931,  9.45371578,  9.46284224,\n",
       "        9.47196871,  9.48109518,  9.49022164,  9.49934811,  9.50847458,\n",
       "        9.51760104,  9.52672751,  9.53585398,  9.54498044,  9.55410691,\n",
       "        9.56323338,  9.57235984,  9.58148631,  9.59061278,  9.59973924,\n",
       "        9.60886571,  9.61799218,  9.62711864,  9.63624511,  9.64537158,\n",
       "        9.65449804,  9.66362451,  9.67275098,  9.68187744,  9.69100391,\n",
       "        9.70013038,  9.70925684,  9.71838331,  9.72750978,  9.73663625,\n",
       "        9.74576271,  9.75488918,  9.76401565,  9.77314211,  9.78226858,\n",
       "        9.79139505,  9.80052151,  9.80964798,  9.81877445,  9.82790091,\n",
       "        9.83702738,  9.84615385,  9.85528031,  9.86440678,  9.87353325,\n",
       "        9.88265971,  9.89178618,  9.90091265,  9.91003911,  9.91916558,\n",
       "        9.92829205,  9.93741851,  9.94654498,  9.95567145,  9.96479791,\n",
       "        9.97392438,  9.98305085,  9.99217731, 10.00130378, 10.01043025,\n",
       "       10.01955671, 10.02868318, 10.03780965, 10.04693611, 10.05606258,\n",
       "       10.06518905, 10.07431551, 10.08344198, 10.09256845, 10.10169492,\n",
       "       10.11082138, 10.11994785, 10.12907432, 10.13820078, 10.14732725,\n",
       "       10.15645372, 10.16558018, 10.17470665, 10.18383312, 10.19295958,\n",
       "       10.20208605, 10.21121252, 10.22033898, 10.22946545, 10.23859192,\n",
       "       10.24771838, 10.25684485, 10.26597132, 10.27509778, 10.28422425,\n",
       "       10.29335072, 10.30247718, 10.31160365, 10.32073012, 10.32985658,\n",
       "       10.33898305, 10.34810952, 10.35723598, 10.36636245, 10.37548892,\n",
       "       10.38461538, 10.39374185, 10.40286832, 10.41199478, 10.42112125,\n",
       "       10.43024772, 10.43937419, 10.44850065, 10.45762712, 10.46675359,\n",
       "       10.47588005, 10.48500652, 10.49413299, 10.50325945, 10.51238592,\n",
       "       10.52151239, 10.53063885, 10.53976532, 10.54889179, 10.55801825,\n",
       "       10.56714472, 10.57627119, 10.58539765, 10.59452412, 10.60365059,\n",
       "       10.61277705, 10.62190352, 10.63102999, 10.64015645, 10.64928292,\n",
       "       10.65840939, 10.66753585, 10.67666232, 10.68578879, 10.69491525,\n",
       "       10.70404172, 10.71316819, 10.72229465, 10.73142112, 10.74054759,\n",
       "       10.74967405, 10.75880052, 10.76792699, 10.77705346, 10.78617992,\n",
       "       10.79530639, 10.80443286, 10.81355932, 10.82268579, 10.83181226,\n",
       "       10.84093872, 10.85006519, 10.85919166, 10.86831812, 10.87744459,\n",
       "       10.88657106, 10.89569752, 10.90482399, 10.91395046, 10.92307692,\n",
       "       10.93220339, 10.94132986, 10.95045632, 10.95958279, 10.96870926,\n",
       "       10.97783572, 10.98696219, 10.99608866, 11.00521512, 11.01434159,\n",
       "       11.02346806, 11.03259452, 11.04172099, 11.05084746, 11.05997392,\n",
       "       11.06910039, 11.07822686, 11.08735332, 11.09647979, 11.10560626,\n",
       "       11.11473272, 11.12385919, 11.13298566, 11.14211213, 11.15123859,\n",
       "       11.16036506, 11.16949153, 11.17861799, 11.18774446, 11.19687093,\n",
       "       11.20599739, 11.21512386, 11.22425033, 11.23337679, 11.24250326,\n",
       "       11.25162973, 11.26075619, 11.26988266, 11.27900913, 11.28813559,\n",
       "       11.29726206, 11.30638853, 11.31551499, 11.32464146, 11.33376793,\n",
       "       11.34289439, 11.35202086, 11.36114733, 11.37027379, 11.37940026,\n",
       "       11.38852673, 11.39765319, 11.40677966, 11.41590613, 11.42503259,\n",
       "       11.43415906, 11.44328553, 11.45241199, 11.46153846, 11.47066493,\n",
       "       11.4797914 , 11.48891786, 11.49804433, 11.5071708 , 11.51629726,\n",
       "       11.52542373, 11.5345502 , 11.54367666, 11.55280313, 11.5619296 ,\n",
       "       11.57105606, 11.58018253, 11.589309  , 11.59843546, 11.60756193,\n",
       "       11.6166884 , 11.62581486, 11.63494133, 11.6440678 , 11.65319426,\n",
       "       11.66232073, 11.6714472 , 11.68057366, 11.68970013, 11.6988266 ,\n",
       "       11.70795306, 11.71707953, 11.726206  , 11.73533246, 11.74445893,\n",
       "       11.7535854 , 11.76271186, 11.77183833, 11.7809648 , 11.79009126,\n",
       "       11.79921773, 11.8083442 , 11.81747066, 11.82659713, 11.8357236 ,\n",
       "       11.84485007, 11.85397653, 11.863103  , 11.87222947, 11.88135593,\n",
       "       11.8904824 , 11.89960887, 11.90873533, 11.9178618 , 11.92698827,\n",
       "       11.93611473, 11.9452412 , 11.95436767, 11.96349413, 11.9726206 ,\n",
       "       11.98174707, 11.99087353, 12.        ])"
      ]
     },
     "execution_count": 251,
     "metadata": {},
     "output_type": "execute_result"
    }
   ],
   "source": [
    "len(dfflow.index)/96\n",
    "import numpy as np\n",
    "np.linspace(dfflow.index[0].day,dfflow.index[-1].day,\n",
    "            len(dfflow.index))"
   ]
  },
  {
   "cell_type": "code",
   "execution_count": 263,
   "metadata": {},
   "outputs": [],
   "source": [
    "type(dfflow.index[0].day)\n",
    "monthDict = {1: 'Jan',\n",
    "            2: 'Feb',\n",
    "            3: 'March',\n",
    "            4: 'April',\n",
    "            5: 'May',\n",
    "            6: 'June',\n",
    "            7: 'July',\n",
    "            8: 'Aug',\n",
    "            9: 'Sep',\n",
    "            10: 'Oct',\n",
    "            11: 'Nov',\n",
    "            12: 'Dec',}\n",
    "\n",
    "seasonDict = {1: 'winter',\n",
    "            2: 'winter',\n",
    "            3: 'spring',\n",
    "            4: 'spring',\n",
    "            5: 'spring',\n",
    "            6: 'summer',\n",
    "            7: 'summer',\n",
    "            8: 'summer',\n",
    "            9: 'summer',\n",
    "            10: 'winter',\n",
    "            11: 'winter',\n",
    "            12: 'winter',}\n",
    "\n",
    "seasonClrM = {'winter' : 'GnBu',\n",
    "            'spring' : 'RdPu',\n",
    "            'summer': 'YlOrRd'}\n",
    "\n",
    "seasonClr = {'winter' : 'ckcd:turquoise',\n",
    "            'spring' : 'xkcd:pinkish purple',\n",
    "            'summer': 'xkcd:scarlet'}"
   ]
  },
  {
   "cell_type": "code",
   "execution_count": 273,
   "metadata": {},
   "outputs": [
    {
     "data": {
      "text/plain": [
       "Text(0.5, 1.0, 'BC03')"
      ]
     },
     "execution_count": 273,
     "metadata": {},
     "output_type": "execute_result"
    },
    {
     "data": {
      "image/png": "[encoded data removed]",
      "text/plain": [
       "<Figure size 432x288 with 2 Axes>"
      ]
     },
     "metadata": {
      "needs_background": "light"
     },
     "output_type": "display_data"
    }
   ],
   "source": [
    "import matplotlib as mpl\n",
    "mpl.rcParams.update({'font.size': 12})\n",
    "\n",
    "fig,ax = plt.subplots()\n",
    "cv = np.linspace(dfflow.index[0].day,dfflow.index[-1].day,\n",
    "            len(dfflow.index))\n",
    "colormap = seasonClrM[seasonDict[dfflow.index[0].month]]\n",
    "plt.scatter(x,y,c=cv,cmap=colormap,alpha=0.5)\n",
    "cb = plt.colorbar()\n",
    "cb.ax.set_title(monthDict[dfflow.index[0].month])\n",
    "\n",
    "ax.set_xlabel('Willeo Creek (ft)')\n",
    "ax.set_xlim(left=0)\n",
    "ax.set_ylabel('Net Q (MGD)')\n",
    "ax.set_ylim(bottom=0)\n",
    "ax.set_title(fmname)"
   ]
  },
  {
   "cell_type": "code",
   "execution_count": 304,
   "metadata": {
    "scrolled": true
   },
   "outputs": [
    {
     "data": {
      "text/html": [
       "<div>\n",
       "<style scoped>\n",
       "    .dataframe tbody tr th:only-of-type {\n",
       "        vertical-align: middle;\n",
       "    }\n",
       "\n",
       "    .dataframe tbody tr th {\n",
       "        vertical-align: top;\n",
       "    }\n",
       "\n",
       "    .dataframe thead th {\n",
       "        text-align: right;\n",
       "    }\n",
       "</style>\n",
       "<table border=\"1\" class=\"dataframe\">\n",
       "  <thead>\n",
       "    <tr style=\"text-align: right;\">\n",
       "      <th></th>\n",
       "      <th>agency_cd</th>\n",
       "      <th>site_no</th>\n",
       "      <th>tz_cd</th>\n",
       "      <th>39526_00060</th>\n",
       "      <th>39526_00060_cd</th>\n",
       "      <th>39527_00065</th>\n",
       "      <th>39527_00065_cd</th>\n",
       "    </tr>\n",
       "    <tr>\n",
       "      <th>datetime</th>\n",
       "      <th></th>\n",
       "      <th></th>\n",
       "      <th></th>\n",
       "      <th></th>\n",
       "      <th></th>\n",
       "      <th></th>\n",
       "      <th></th>\n",
       "    </tr>\n",
       "  </thead>\n",
       "  <tbody>\n",
       "    <tr>\n",
       "      <th>20d</th>\n",
       "      <td>5s</td>\n",
       "      <td>15s</td>\n",
       "      <td>6s</td>\n",
       "      <td>14n</td>\n",
       "      <td>10s</td>\n",
       "      <td>14n</td>\n",
       "      <td>10s</td>\n",
       "    </tr>\n",
       "    <tr>\n",
       "      <th>2018-11-10 00:00</th>\n",
       "      <td>USGS</td>\n",
       "      <td>02335450</td>\n",
       "      <td>EST</td>\n",
       "      <td>2760</td>\n",
       "      <td>A</td>\n",
       "      <td>4.63</td>\n",
       "      <td>A</td>\n",
       "    </tr>\n",
       "    <tr>\n",
       "      <th>2018-11-10 00:15</th>\n",
       "      <td>USGS</td>\n",
       "      <td>02335450</td>\n",
       "      <td>EST</td>\n",
       "      <td>2790</td>\n",
       "      <td>A</td>\n",
       "      <td>4.65</td>\n",
       "      <td>A</td>\n",
       "    </tr>\n",
       "    <tr>\n",
       "      <th>2018-11-10 00:30</th>\n",
       "      <td>USGS</td>\n",
       "      <td>02335450</td>\n",
       "      <td>EST</td>\n",
       "      <td>2840</td>\n",
       "      <td>A</td>\n",
       "      <td>4.68</td>\n",
       "      <td>A</td>\n",
       "    </tr>\n",
       "    <tr>\n",
       "      <th>2018-11-10 00:45</th>\n",
       "      <td>USGS</td>\n",
       "      <td>02335450</td>\n",
       "      <td>EST</td>\n",
       "      <td>2890</td>\n",
       "      <td>A</td>\n",
       "      <td>4.71</td>\n",
       "      <td>A</td>\n",
       "    </tr>\n",
       "  </tbody>\n",
       "</table>\n",
       "</div>"
      ],
      "text/plain": [
       "                 agency_cd   site_no tz_cd 39526_00060 39526_00060_cd  \\\n",
       "datetime                                                                \n",
       "20d                     5s       15s    6s         14n            10s   \n",
       "2018-11-10 00:00      USGS  02335450   EST        2760              A   \n",
       "2018-11-10 00:15      USGS  02335450   EST        2790              A   \n",
       "2018-11-10 00:30      USGS  02335450   EST        2840              A   \n",
       "2018-11-10 00:45      USGS  02335450   EST        2890              A   \n",
       "\n",
       "                 39527_00065 39527_00065_cd  \n",
       "datetime                                     \n",
       "20d                      14n            10s  \n",
       "2018-11-10 00:00        4.63              A  \n",
       "2018-11-10 00:15        4.65              A  \n",
       "2018-11-10 00:30        4.68              A  \n",
       "2018-11-10 00:45        4.71              A  "
      ]
     },
     "execution_count": 304,
     "metadata": {},
     "output_type": "execute_result"
    }
   ],
   "source": [
    "filename='H:\\\\Big Creek\\\\USGS River\\\\Nov12th\\\\USGS02335450_15min_20181110-20181116.txt'\n",
    "df = pd.read_csv(filename, sep='\t',header=27,index_col=2)\n",
    "df.head()"
   ]
  },
  {
   "cell_type": "code",
   "execution_count": 283,
   "metadata": {},
   "outputs": [
    {
     "data": {
      "text/html": [
       "<div>\n",
       "<style scoped>\n",
       "    .dataframe tbody tr th:only-of-type {\n",
       "        vertical-align: middle;\n",
       "    }\n",
       "\n",
       "    .dataframe tbody tr th {\n",
       "        vertical-align: top;\n",
       "    }\n",
       "\n",
       "    .dataframe thead th {\n",
       "        text-align: right;\n",
       "    }\n",
       "</style>\n",
       "<table border=\"1\" class=\"dataframe\">\n",
       "  <thead>\n",
       "    <tr style=\"text-align: right;\">\n",
       "      <th></th>\n",
       "      <th></th>\n",
       "      <th></th>\n",
       "      <th></th>\n",
       "      <th></th>\n",
       "      <th></th>\n",
       "      <th></th>\n",
       "      <th>#</th>\n",
       "    </tr>\n",
       "  </thead>\n",
       "  <tbody>\n",
       "    <tr>\n",
       "      <th>agency_cd</th>\n",
       "      <th>site_no</th>\n",
       "      <th>datetime</th>\n",
       "      <th>tz_cd</th>\n",
       "      <th>247744_00045</th>\n",
       "      <th>247744_00045_cd</th>\n",
       "      <th>39546_00062</th>\n",
       "      <td>39546_00062_cd</td>\n",
       "    </tr>\n",
       "    <tr>\n",
       "      <th>5s</th>\n",
       "      <th>15s</th>\n",
       "      <th>20d</th>\n",
       "      <th>6s</th>\n",
       "      <th>14n</th>\n",
       "      <th>10s</th>\n",
       "      <th>14n</th>\n",
       "      <td>10s</td>\n",
       "    </tr>\n",
       "    <tr>\n",
       "      <th rowspan=\"3\" valign=\"top\">USGS</th>\n",
       "      <th rowspan=\"3\" valign=\"top\">02335810</th>\n",
       "      <th>2018-04-21 00:00</th>\n",
       "      <th>EDT</th>\n",
       "      <th>NaN</th>\n",
       "      <th>NaN</th>\n",
       "      <th>865.47</th>\n",
       "      <td>A</td>\n",
       "    </tr>\n",
       "    <tr>\n",
       "      <th>2018-04-21 00:15</th>\n",
       "      <th>EDT</th>\n",
       "      <th>NaN</th>\n",
       "      <th>NaN</th>\n",
       "      <th>865.45</th>\n",
       "      <td>A</td>\n",
       "    </tr>\n",
       "    <tr>\n",
       "      <th>2018-04-21 00:30</th>\n",
       "      <th>EDT</th>\n",
       "      <th>NaN</th>\n",
       "      <th>NaN</th>\n",
       "      <th>865.44</th>\n",
       "      <td>A</td>\n",
       "    </tr>\n",
       "  </tbody>\n",
       "</table>\n",
       "</div>"
      ],
      "text/plain": [
       "                                                                                                # \n",
       "agency_cd site_no  datetime         tz_cd 247744_00045 247744_00045_cd 39546_00062  39546_00062_cd\n",
       "5s        15s      20d              6s    14n          10s             14n                     10s\n",
       "USGS      02335810 2018-04-21 00:00 EDT   NaN          NaN             865.47                    A\n",
       "                   2018-04-21 00:15 EDT   NaN          NaN             865.45                    A\n",
       "                   2018-04-21 00:30 EDT   NaN          NaN             865.44                    A"
      ]
     },
     "execution_count": 283,
     "metadata": {},
     "output_type": "execute_result"
    }
   ],
   "source": [
    "df = pd.read_csv(filename,sep='\t',header=29)\n",
    "df.head()"
   ]
  },
  {
   "cell_type": "code",
   "execution_count": null,
   "metadata": {},
   "outputs": [],
   "source": []
  }
 ],
 "metadata": {
  "kernelspec": {
   "display_name": "Python 3",
   "language": "python",
   "name": "python3"
  },
  "language_info": {
   "codemirror_mode": {
    "name": "ipython",
    "version": 3
   },
   "file_extension": ".py",
   "mimetype": "text/x-python",
   "name": "python",
   "nbconvert_exporter": "python",
   "pygments_lexer": "ipython3",
   "version": "3.7.3"
  }
 },
 "nbformat": 4,
 "nbformat_minor": 2
}
