{
 "cells": [
  {
   "cell_type": "code",
   "execution_count": 13,
   "metadata": {},
   "outputs": [],
   "source": [
    "homeDir = 'P:\\\\PW-WATER SERVICES\\\\TECHNICAL SERVICES\\\\Anna\\\\Storm Analysis'\n",
    "testFile = homeDir + '\\\\FlowData_20181110_20181116\\\\BC70A_29907417.csv'\n",
    "hourlyFile = homeDir + 'rgHourly_20180101-20180331.txt'\n",
    "dailyFile = homeDir + 'rgDaily_20170101-20181231.txt'\n",
    "\n",
    "import pandas as pd\n",
    "import matplotlib.pyplot as plt\n",
    "import matplotlib.dates as mdates\n",
    "\n",
    "def reorganizeFlowData(df,colVal):\n",
    "    df['date']=df.index.date\n",
    "    df['time']=df.index.time\n",
    "    df = df.pivot(index='time',columns='date',values=colVal)\n",
    "    return(df)\n",
    "\n",
    "def readRaintxt(filename,useColList):\n",
    "    df = pd.read_csv(filename,sep='\\t',usecols=useColList,index_col=0)\n",
    "    df.index = pd.to_datetime(df.index)\n",
    "    return(df)\n",
    "\n",
    "def readSliicercsv(filename):\n",
    "    df = pd.read_csv(filename,index_col = 0,header=2,usecols=[0,1,2,3,4],names=['Datetime','sdepth (in)','y (in)','v (ft/s)','Q (MGD)'])\n",
    "    df.index = pd.to_datetime(df.index)\n",
    "    return(df)"
   ]
  },
  {
   "cell_type": "code",
   "execution_count": 109,
   "metadata": {
    "scrolled": true
   },
   "outputs": [
    {
     "data": {
      "text/plain": [
       "Index([2018-11-10, 2018-11-11, 2018-11-12, 2018-11-13, 2018-11-14, 2018-11-15,\n",
       "       2018-11-16],\n",
       "      dtype='object', name='date')"
      ]
     },
     "execution_count": 109,
     "metadata": {},
     "output_type": "execute_result"
    }
   ],
   "source": [
    "df = readSliicercsv(testFile)\n",
    "df = reorganizeFlowData(df=df,colVal='Q (MGD)')\n",
    "df.columns"
   ]
  },
  {
   "cell_type": "code",
   "execution_count": 171,
   "metadata": {},
   "outputs": [
    {
     "data": {
      "text/plain": [
       "[0, 1]"
      ]
     },
     "execution_count": 171,
     "metadata": {},
     "output_type": "execute_result"
    }
   ],
   "source": [
    "# create data labels\n",
    "# create data frame of dates from the original dataframe columns\n",
    "df2 = pd.DataFrame({'original': df.columns})\n",
    "# convert from string into datetime\n",
    "df2['original']=pd.to_datetime(df2.original)\n",
    "# set a column for the labels to the day value as a string\n",
    "df2['label']=df2['original'].dt.strftime('%d')\n",
    "# set column for day of week\n",
    "df2['dayofweek']=df2['original'].dt.weekday\n",
    "# create a separate column that has the day as an integer\n",
    "df2['dayonly']=df2['original'].dt.day\n",
    "# find the first day of each month and set it to format Jan 1, Feb 1, etc.\n",
    "mask = df2['dayonly']<11\n",
    "df2.loc[mask,'label'] = df2.loc[mask,'original'].dt.strftime('%b %d')\n",
    "#set label colors\n",
    "wkdColor = 'xkcd:charcoal'\n",
    "wkeColor = 'xkcd:grey'\n",
    "mask = df2['dayofweek']>4\n",
    "df2['labelcolor'] = wkdColor\n",
    "df2.loc[mask,'labelcolor']=wkeColor\n",
    "df2['rain'] = [0,0,3.82,0.21,0.81,0.7,0]\n",
    "\n",
    "weekendIndx = df2.index[df2['dayofweek']>4].tolist()\n",
    "rainIndx = df2.index[df2['rain']>0.5].tolist()\n",
    "rainIndx\n",
    "\n",
    "weekendIndx"
   ]
  },
  {
   "cell_type": "code",
   "execution_count": 190,
   "metadata": {},
   "outputs": [
    {
     "data": {
      "text/plain": [
       "53.0"
      ]
     },
     "execution_count": 190,
     "metadata": {},
     "output_type": "execute_result"
    }
   ],
   "source": [
    "list(df2.labelcolor.values)\n",
    "top = df.max().max()\n"
   ]
  },
  {
   "cell_type": "code",
   "execution_count": 198,
   "metadata": {
    "scrolled": true
   },
   "outputs": [
    {
     "data": {
      "image/png": "[encoded data removed]",
      "text/plain": [
       "<Figure size 864x432 with 1 Axes>"
      ]
     },
     "metadata": {
      "needs_background": "light"
     },
     "output_type": "display_data"
    }
   ],
   "source": [
    "import numpy as np\n",
    "rainIndx = [2,4,5]\n",
    "weekendIndx = [0,1]\n",
    "rain = [0,0,3.82,0.21,0.81,0.7,0]\n",
    "# create figure\n",
    "fig,ax = plt.subplots(figsize=(12,6))\n",
    "# plot\n",
    "bp = ax.boxplot(df.values,\n",
    "                labels=df2['label'],\n",
    "               sym='+',\n",
    "               patch_artist=True)\n",
    "\n",
    "# defaults are weekday colors - xkcd:charcoal for whiskers and fliers, beige for dry weather\n",
    "plt.setp(bp['boxes'],color='xkcd:beige')\n",
    "plt.setp(bp['whiskers'],color='xkcd:grey')\n",
    "plt.setp(bp['fliers'],color='xkcd:grey')\n",
    "plt.setp(bp['medians'],color='xkcd:grape',linewidth=1.2)\n",
    "\n",
    "# add light grid\n",
    "ax.yaxis.grid(True,linestyle='-',\n",
    "              which='major',\n",
    "              color='xkcd:light grey',\n",
    "              alpha=0.5)\n",
    "\n",
    "top = round(1.1*df.max().max())\n",
    "ax.set_ylim(0, top)\n",
    "\n",
    "# color for rain\n",
    "count = 0\n",
    "for box in bp['boxes']:\n",
    "    if count in rainIndx:\n",
    "        box.set_facecolor(color='xkcd:powder blue')\n",
    "    count +=1\n",
    "    \n",
    "# add rain labels\n",
    "\n",
    "# Due to the Y-axis scale being different across samples, it can be\n",
    "# hard to compare differences in medians across the samples. Add upper\n",
    "# X-axis tick labels with the sample medians to aid in comparison\n",
    "# (just use two decimal places of precision)\n",
    "\n",
    "numBoxes = len(df2.label)\n",
    "pos = np.arange(numBoxes) + 1\n",
    "# get the rain values\n",
    "upperLabels = rain\n",
    "w = ['semibold']\n",
    "count = 0\n",
    "for tick, label in zip(range(numBoxes), ax.get_xticklabels()):\n",
    "    if count in rainIndx:\n",
    "        ax.text(pos[tick], top - (top*0.05), upperLabels[tick],\n",
    "             horizontalalignment='center', size='medium',\n",
    "             color='xkcd:medium blue')\n",
    "    count+=1\n",
    "\n",
    "    \n",
    "# color for weekday\n",
    "\n",
    "plt.show()"
   ]
  },
  {
   "cell_type": "code",
   "execution_count": 205,
   "metadata": {},
   "outputs": [],
   "source": [
    "homeDir = 'P:\\\\PW-WATER SERVICES\\\\TECHNICAL SERVICES\\\\Anna\\\\2018'\n",
    "testFile = homeDir + '\\\\Big Creek\\\\BC70A_28660533.txt'\n",
    "rainFile = homeDir + '\\\\Rain\\\\RG_daily_20180101-20190331.txt'\n",
    "\n",
    "import pandas as pd\n",
    "import matplotlib.pyplot as plt\n",
    "import matplotlib as mpl\n",
    "import numpy as np\n",
    "\n",
    "def reorganizeFlowData(df,colVal):\n",
    "    df['date']=df.index.date\n",
    "    df['time']=df.index.time\n",
    "    df = df.pivot(index='time',columns='date',values=colVal)\n",
    "    return(df)\n",
    "\n",
    "def readRaintxt(filename,useColList):\n",
    "    df = pd.read_csv(filename,sep='\\t',usecols=useColList,index_col=0)\n",
    "    df.index = pd.to_datetime(df.index)\n",
    "    return(df)\n",
    "\n",
    "def readSliicer(filename):\n",
    "    df = pd.read_csv(filename,sep='\t',header=2, index_col=0,names=['y','v','Q (MGD)'])\n",
    "    df.index = pd.to_datetime(df.index)\n",
    "    return(df)\n"
   ]
  },
  {
   "cell_type": "code",
   "execution_count": 391,
   "metadata": {},
   "outputs": [],
   "source": [
    "dfAll = readSliicer(testFile)\n",
    "dfrain = readRaintxt(filename=rainFile,useColList=['Date','BCRG02'])"
   ]
  },
  {
   "cell_type": "code",
   "execution_count": 392,
   "metadata": {},
   "outputs": [],
   "source": [
    "import datetime as dt\n",
    "#slice it\n",
    "startDate = dt.datetime(2019,1,1)\n",
    "endDate = dt.datetime(2019,3,31) + dt.timedelta(hours=23,minutes=45)\n",
    "df = dfAll.loc[startDate:endDate,:]\n",
    "rain = list(dfrain.loc[startDate:endDate,'BCRG02'].values)"
   ]
  },
  {
   "cell_type": "code",
   "execution_count": 393,
   "metadata": {},
   "outputs": [
    {
     "name": "stderr",
     "output_type": "stream",
     "text": [
      "C:\\Users\\Anna.Skipper\\AppData\\Local\\Continuum\\anaconda3\\lib\\site-packages\\ipykernel_launcher.py:10: SettingWithCopyWarning: \n",
      "A value is trying to be set on a copy of a slice from a DataFrame.\n",
      "Try using .loc[row_indexer,col_indexer] = value instead\n",
      "\n",
      "See the caveats in the documentation: http://pandas.pydata.org/pandas-docs/stable/indexing.html#indexing-view-versus-copy\n",
      "  # Remove the CWD from sys.path while we load stuff.\n",
      "C:\\Users\\Anna.Skipper\\AppData\\Local\\Continuum\\anaconda3\\lib\\site-packages\\ipykernel_launcher.py:11: SettingWithCopyWarning: \n",
      "A value is trying to be set on a copy of a slice from a DataFrame.\n",
      "Try using .loc[row_indexer,col_indexer] = value instead\n",
      "\n",
      "See the caveats in the documentation: http://pandas.pydata.org/pandas-docs/stable/indexing.html#indexing-view-versus-copy\n",
      "  # This is added back by InteractiveShellApp.init_path()\n"
     ]
    }
   ],
   "source": [
    "df = reorganizeFlowData(df=df,colVal='Q (MGD)')"
   ]
  },
  {
   "cell_type": "code",
   "execution_count": 410,
   "metadata": {},
   "outputs": [],
   "source": [
    "# create data labels\n",
    "# create data frame of dates from the original dataframe columns\n",
    "df2 = pd.DataFrame({'original': df.columns})\n",
    "# convert from string into datetime\n",
    "df2['original']=pd.to_datetime(df2.original)\n",
    "# set a column for the labels to the day value as a string\n",
    "df2['label']=df2['original'].dt.strftime('%d')\n",
    "# create a separate column that has the day as an integer\n",
    "df2['dayonly']=df2['original'].dt.day\n",
    "# find the first day of each month and set it to format Jan 1, Feb 1, etc.\n",
    "mask = df2['dayonly']<2\n",
    "df2.loc[mask,'label'] = df2.loc[mask,'original'].dt.strftime('%b')\n",
    "# find weekday values\n",
    "df['dayofweek'] = df2['original'].dt.weekday\n",
    "#set label colors\n",
    "df2['rain'] = rain\n",
    "df2.head()\n",
    "rainIndx = df2.index[df2['rain']>0.5].tolist()"
   ]
  },
  {
   "cell_type": "code",
   "execution_count": 389,
   "metadata": {},
   "outputs": [
    {
     "data": {
      "image/png": "[encoded data removed]",
      "text/plain": [
       "<Figure size 1440x288 with 1 Axes>"
      ]
     },
     "metadata": {
      "needs_background": "light"
     },
     "output_type": "display_data"
    }
   ],
   "source": [
    "# create figure\n",
    "fig,ax = plt.subplots(figsize=(20,4))\n",
    "# plot\n",
    "bp = ax.boxplot(df.values,\n",
    "                labels=df2['label'],\n",
    "               sym='+',\n",
    "               patch_artist=True)\n",
    "\n",
    "# defaults are weekday colors - xkcd:charcoal for whiskers and fliers, beige for dry weather\n",
    "plt.setp(bp['boxes'],color='xkcd:beige')\n",
    "plt.setp(bp['whiskers'],color='xkcd:grey')\n",
    "plt.setp(bp['fliers'],color='xkcd:grey')\n",
    "plt.setp(bp['medians'],color='xkcd:grape',linewidth=1.2)\n",
    "\n",
    "# add light grid\n",
    "ax.yaxis.grid(True,linestyle='-',\n",
    "              which='major',\n",
    "              color='xkcd:light grey',\n",
    "              alpha=0.5)\n",
    "ax.xaxis.grid(True,linestyle='-',\n",
    "              which='major',\n",
    "              color='xkcd:light grey',\n",
    "              alpha=0.5)\n",
    "ax.set_ylabel('Q (MGD)')\n",
    "top = round(1.1*dfAll.max().max())\n",
    "ax.set_ylim(0, top)\n",
    "ax.set_title(str(startDate.strftime('%b %Y'))+ ' - ' \n",
    "             + str(endDate.strftime('%b %Y')))\n",
    "\n",
    "# color for rain\n",
    "count = 0\n",
    "for box in bp['boxes']:\n",
    "    if count in rainIndx:\n",
    "        box.set_facecolor(color='xkcd:powder blue')\n",
    "    count +=1\n",
    "    \n",
    "# add rain labels\n",
    "\n",
    "# Due to the Y-axis scale being different across samples, it can be\n",
    "# hard to compare differences in medians across the samples. Add upper\n",
    "# X-axis tick labels with the sample medians to aid in comparison\n",
    "# (just use two decimal places of precision)\n",
    "\n",
    "numBoxes = len(df2.label)\n",
    "pos = np.arange(numBoxes) + 1\n",
    "# get the rain values\n",
    "upperLabels = rain\n",
    "w = ['semibold']\n",
    "count = 0\n",
    "for tick, label in zip(range(numBoxes), ax.get_xticklabels()):\n",
    "    if count in rainIndx:\n",
    "        ax.text(pos[tick], top - (top*0.08), upperLabels[tick],\n",
    "             horizontalalignment='center', size='medium',\n",
    "             color='xkcd:medium blue')\n",
    "    count+=1\n",
    "\n",
    "import matplotlib as mpl\n",
    "mpl.rcParams.update({'font.size' : 10})\n",
    "\n",
    "\n",
    "saveName = homeDir + '\\\\Big Creek\\\\BC70A\\\\BC70A_' + str(startDate.date()) + '-' + str(endDate.date()) + '.png'\n",
    "plt.savefig(saveName)\n",
    "\n",
    "plt.show()"
   ]
  },
  {
   "cell_type": "code",
   "execution_count": 409,
   "metadata": {},
   "outputs": [],
   "source": [
    "locs = ax.get_xticks()\n",
    "labels = df.label\n"
   ]
  },
  {
   "cell_type": "code",
   "execution_count": 413,
   "metadata": {},
   "outputs": [
    {
     "data": {
      "text/html": [
       "<div>\n",
       "<style scoped>\n",
       "    .dataframe tbody tr th:only-of-type {\n",
       "        vertical-align: middle;\n",
       "    }\n",
       "\n",
       "    .dataframe tbody tr th {\n",
       "        vertical-align: top;\n",
       "    }\n",
       "\n",
       "    .dataframe thead th {\n",
       "        text-align: right;\n",
       "    }\n",
       "</style>\n",
       "<table border=\"1\" class=\"dataframe\">\n",
       "  <thead>\n",
       "    <tr style=\"text-align: right;\">\n",
       "      <th></th>\n",
       "      <th>original</th>\n",
       "      <th>label</th>\n",
       "      <th>dayonly</th>\n",
       "      <th>rain</th>\n",
       "      <th>dayofweek</th>\n",
       "    </tr>\n",
       "  </thead>\n",
       "  <tbody>\n",
       "    <tr>\n",
       "      <th>0</th>\n",
       "      <td>2019-01-01</td>\n",
       "      <td>Jan</td>\n",
       "      <td>1</td>\n",
       "      <td>0.18</td>\n",
       "      <td>1</td>\n",
       "    </tr>\n",
       "    <tr>\n",
       "      <th>1</th>\n",
       "      <td>2019-01-02</td>\n",
       "      <td>02</td>\n",
       "      <td>2</td>\n",
       "      <td>0.28</td>\n",
       "      <td>2</td>\n",
       "    </tr>\n",
       "    <tr>\n",
       "      <th>2</th>\n",
       "      <td>2019-01-03</td>\n",
       "      <td>03</td>\n",
       "      <td>3</td>\n",
       "      <td>0.36</td>\n",
       "      <td>3</td>\n",
       "    </tr>\n",
       "    <tr>\n",
       "      <th>3</th>\n",
       "      <td>2019-01-04</td>\n",
       "      <td>04</td>\n",
       "      <td>4</td>\n",
       "      <td>0.97</td>\n",
       "      <td>4</td>\n",
       "    </tr>\n",
       "    <tr>\n",
       "      <th>4</th>\n",
       "      <td>2019-01-05</td>\n",
       "      <td>05</td>\n",
       "      <td>5</td>\n",
       "      <td>0.00</td>\n",
       "      <td>5</td>\n",
       "    </tr>\n",
       "  </tbody>\n",
       "</table>\n",
       "</div>"
      ],
      "text/plain": [
       "    original label  dayonly  rain  dayofweek\n",
       "0 2019-01-01   Jan        1  0.18          1\n",
       "1 2019-01-02    02        2  0.28          2\n",
       "2 2019-01-03    03        3  0.36          3\n",
       "3 2019-01-04    04        4  0.97          4\n",
       "4 2019-01-05    05        5  0.00          5"
      ]
     },
     "execution_count": 413,
     "metadata": {},
     "output_type": "execute_result"
    }
   ],
   "source": [
    "df2['dayofweek'] = df2['original'].dt.weekday\n",
    "df2.head()"
   ]
  },
  {
   "cell_type": "code",
   "execution_count": 415,
   "metadata": {},
   "outputs": [
    {
     "data": {
      "text/plain": [
       "array([1, 2])"
      ]
     },
     "execution_count": 415,
     "metadata": {},
     "output_type": "execute_result"
    }
   ],
   "source": [
    "locs\n",
    "newlocs = locs[0:2:]\n",
    "newlocs"
   ]
  },
  {
   "cell_type": "code",
   "execution_count": 417,
   "metadata": {},
   "outputs": [
    {
     "data": {
      "text/plain": [
       "<bound method _AxesBase.get_position of <matplotlib.axes._subplots.AxesSubplot object at 0x000000000B0971D0>>"
      ]
     },
     "execution_count": 417,
     "metadata": {},
     "output_type": "execute_result"
    }
   ],
   "source": [
    "ax.get_position"
   ]
  },
  {
   "cell_type": "code",
   "execution_count": null,
   "metadata": {},
   "outputs": [],
   "source": []
  }
 ],
 "metadata": {
  "kernelspec": {
   "display_name": "Python 3",
   "language": "python",
   "name": "python3"
  },
  "language_info": {
   "codemirror_mode": {
    "name": "ipython",
    "version": 3
   },
   "file_extension": ".py",
   "mimetype": "text/x-python",
   "name": "python",
   "nbconvert_exporter": "python",
   "pygments_lexer": "ipython3",
   "version": "3.7.3"
  }
 },
 "nbformat": 4,
 "nbformat_minor": 2
}
