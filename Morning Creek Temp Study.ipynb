{
 "cells": [
  {
   "cell_type": "markdown",
   "metadata": {},
   "source": [
    "# Morning Creek Temp Study"
   ]
  },
  {
   "cell_type": "markdown",
   "metadata": {},
   "source": [
    "## Import Statements"
   ]
  },
  {
   "cell_type": "code",
   "execution_count": 1,
   "metadata": {},
   "outputs": [],
   "source": [
    "import datetime as dt\n",
    "import time\n",
    "\n",
    "from os import makedirs\n",
    "\n",
    "from flowmeterAnalysis import readFiles\n",
    "from flowmeterAnalysis import flowMonitor\n",
    "from flowmeterAnalysis import plotting"
   ]
  },
  {
   "cell_type": "markdown",
   "metadata": {},
   "source": [
    "## File Locations"
   ]
  },
  {
   "cell_type": "code",
   "execution_count": 2,
   "metadata": {},
   "outputs": [],
   "source": [
    "homeDir = 'P:\\\\PW-WATER SERVICES\\\\TECHNICAL SERVICES\\\\Anna'\n",
    "flowDir = homeDir + '\\\\2019\\\\Morning Creek Temp Study\\\\Data'\n",
    "upstreamFile = homeDir + '\\\\MCTemptStudy_fmus.csv'\n",
    "fmdataFile = homeDir + '\\\\FMdata.csv'\n",
    "rainDir = homeDir + '\\\\2019\\\\Morning Creek Temp Study\\\\Rain'\n",
    "hourlyFile = rainDir + '\\\\MCRG01_hourly_02012019-04302019.csv'\n",
    "dailyFile = rainDir + '\\\\MCRG01_daily_02012019-04302019.csv'\n",
    "\n",
    "saveDir = homeDir + '\\\\2019\\\\Morning Creek Temp Study\\\\'"
   ]
  },
  {
   "cell_type": "markdown",
   "metadata": {},
   "source": [
    "## Settings and Variable Inputs"
   ]
  },
  {
   "cell_type": "code",
   "execution_count": 3,
   "metadata": {},
   "outputs": [],
   "source": [
    "# EMPTY VARIABLES:\n",
    "dfFlows = {}\n",
    "basinDryWeather = {}\n",
    "gageStorms = {}\n",
    "stormsDict = {}\n",
    "systemII = {}\n",
    "\n",
    "# SETTINGS AND VARIABLES\n",
    "analysisDates = (dt.datetime(2019,2,16),dt.datetime(2019,4,16))\n",
    "rainThresh = 0.1"
   ]
  },
  {
   "cell_type": "markdown",
   "metadata": {},
   "source": [
    "## CODE"
   ]
  },
  {
   "cell_type": "markdown",
   "metadata": {},
   "source": [
    "### read in rain files and flow monitor details as pandas dataframes\n",
    "\n",
    "* dfDaily is the daily rain data with the datetime as an index\n",
    "* dfHourly is the hourly rain data with the datetime as an index\n",
    "* dfDetails contains information about the rain gauge, diameter, basin footprint, basin area, etc. for each flow monitor\n",
    "* dfUpstream contains the immediate upstream flow monitors for each flow monitor"
   ]
  },
  {
   "cell_type": "code",
   "execution_count": 4,
   "metadata": {},
   "outputs": [],
   "source": [
    "dfDaily = readFiles.readRaincsv(\n",
    "    filename = dailyFile)\n",
    "dfHourly = readFiles.readRaincsv(\n",
    "    filename = hourlyFile)\n",
    "dfDetails = readFiles.readFMdetails(\n",
    "    filename = fmdataFile)\n",
    "dfUpstream = readFiles.readUpstreamFile(\n",
    "    filename = upstreamFile)"
   ]
  },
  {
   "cell_type": "markdown",
   "metadata": {},
   "source": [
    "### find all the flow csvs"
   ]
  },
  {
   "cell_type": "code",
   "execution_count": 5,
   "metadata": {},
   "outputs": [],
   "source": [
    "flow_folders,flow_txt,flow_csv = readFiles.findTextFiles(readDir=flowDir)"
   ]
  },
  {
   "cell_type": "markdown",
   "metadata": {},
   "source": [
    "### construct basinDryWeatherDict\n",
    "\n",
    "This is a python dictionary with the following keys and values:\n",
    "* Weekday: a dictionary containing the following keys: \n",
    "    * d/D: a numpy array containing the depth over diameter values\n",
    "    * Gross Q: a pandas series with datetimes as indices containing the gross flow rates\n",
    "    * DataFrame: a pandas dataframe with time as the index, dates for the columns, and values corresponding to measured flow rates\n",
    "* Weekend: a dictionary containing the following keys: \n",
    "    * d/D: a numpy array containing the depth over diameter values\n",
    "    * Gross Q: a pandas series with datetimes as indices containing the gross flow rates\n",
    "    * DataFrame: a pandas dataframe with time as the index, dates for the columns, and values corresponding to measured flow rates\n",
    "* Overall: a dictionary containing the following keys: \n",
    "    * BI: a float of the base infiltration, defined as the groundwater infiltration as a percentage of the overall mean flow rate\n",
    "    * d/D: a numpy array containing the depth over diameter values"
   ]
  },
  {
   "cell_type": "code",
   "execution_count": 6,
   "metadata": {},
   "outputs": [
    {
     "name": "stdout",
     "output_type": "stream",
     "text": [
      "Processing time = 3.4320220000000004\n"
     ]
    }
   ],
   "source": [
    "tic = time.process_time()\n",
    "for fmData in flow_csv:\n",
    "    if fmData.startswith('TFM'):\n",
    "        fmname = fmData.split('_')[0] + '-' + fmData.split('_')[1]\n",
    "    else:\n",
    "        fmname = fmData.split('_')[0]\n",
    "    flowFile = flowDir + \"\\\\\" + fmData\n",
    "    dfFlow = readFiles.readFlowviewcsv(filename = flowFile)\n",
    "    dfFlows[fmname] = dfFlow.loc[\n",
    "         analysisDates[0]:analysisDates[1] + dt.timedelta(hours=23,minutes=45)\n",
    "         , :]\n",
    "    basinDryWeather[fmname] = flowMonitor.dryWeather(\n",
    "        dfFlow = dfFlows[fmname], \n",
    "        fmname = fmname, \n",
    "        dfDailyRain = dfDaily,\n",
    "        rainColName = 'Rain (in)',\n",
    "        dfmDetails = dfDetails, \n",
    "        analysisDates = analysisDates,\n",
    "        rainThresh = rainThresh)\n",
    "toc = time.process_time()\n",
    "print('Processing time = ' + str(toc - tic))"
   ]
  },
  {
   "cell_type": "markdown",
   "metadata": {},
   "source": [
    "### Create stacked area graphs of the upstream flows and downstream monitor\n",
    "The downstream monitor should always be higher than the sum of the upstream flows"
   ]
  },
  {
   "cell_type": "code",
   "execution_count": 7,
   "metadata": {},
   "outputs": [
    {
     "name": "stdout",
     "output_type": "stream",
     "text": [
      "Processing time = 5.616035999999999\n"
     ]
    }
   ],
   "source": [
    "tic = time.process_time()\n",
    "folders, txt, csv = readFiles.findTextFiles(saveDir)\n",
    "if 'Upstream Plots' not in folders:\n",
    "    makedirs(saveDir + '\\\\Upstream Plots')\n",
    "for fmname in dfFlows:\n",
    "    usfmList = readFiles.findUpstreamFMs(\n",
    "        df = dfUpstream, \n",
    "        fmname = fmname)\n",
    "    if not usfmList:\n",
    "        pass\n",
    "    else:\n",
    "        plotting.plotInstantUpstreamFlows(\n",
    "            fmname = fmname, \n",
    "            dfFlows = dfFlows, \n",
    "            usfmList = usfmList,\n",
    "            saveDir = saveDir + '\\\\Upstream Plots\\\\')\n",
    "toc = time.process_time()\n",
    "print('Processing time = ' + str(toc - tic))"
   ]
  }
 ],
 "metadata": {
  "kernelspec": {
   "display_name": "Python 3",
   "language": "python",
   "name": "python3"
  },
  "language_info": {
   "codemirror_mode": {
    "name": "ipython",
    "version": 3
   },
   "file_extension": ".py",
   "mimetype": "text/x-python",
   "name": "python",
   "nbconvert_exporter": "python",
   "pygments_lexer": "ipython3",
   "version": "3.7.3"
  }
 },
 "nbformat": 4,
 "nbformat_minor": 2
}
