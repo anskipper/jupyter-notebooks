{
 "cells": [
  {
   "cell_type": "code",
   "execution_count": 1,
   "metadata": {},
   "outputs": [],
   "source": [
    "# write stevens-schutzback method\n",
    "import pickle\n",
    "import datetime as dt\n",
    "import numpy as np\n",
    "\n",
    "from calendar import monthrange\n",
    "\n",
    "from flowmeterAnalysis import readFiles\n",
    "\n",
    "homeDir = 'P:\\\\PW-WATER SERVICES\\\\TECHNICAL SERVICES\\\\Anna'\n",
    "pickleLocation = homeDir + '\\\\2018\\\\Python Objects\\\\'\n",
    "\n",
    "detailFile = homeDir + '\\\\FMdata.csv'"
   ]
  },
  {
   "cell_type": "code",
   "execution_count": 2,
   "metadata": {},
   "outputs": [],
   "source": [
    "with open(pickleLocation + 'flowDict.pickle', 'rb') as handle:\n",
    "    dfFlows = pickle.load(handle)"
   ]
  },
  {
   "cell_type": "code",
   "execution_count": 58,
   "metadata": {},
   "outputs": [],
   "source": [
    "fmname = 'BC21'\n",
    "month = 5\n",
    "dfFlow = dfFlows[fmname][\n",
    "    dt.datetime(2018, month, 1):dt.datetime(2018, month, monthrange(2018,11)[1])]\n",
    "\n",
    "df_details = readFiles.readFMdetails(detailFile)\n",
    "D = df_details.loc[fmname, 'Diameter']"
   ]
  },
  {
   "cell_type": "code",
   "execution_count": 59,
   "metadata": {},
   "outputs": [],
   "source": [
    "def rsquare(y, f):\n",
    "    y = np.asanyarray(y)\n",
    "    f = np.asanyarray(f)\n",
    "    SStot = sum((y - np.mean(y))**2)\n",
    "    SSres = sum((y - f)**2)\n",
    "    return(1 - (SSres/SStot))"
   ]
  },
  {
   "cell_type": "code",
   "execution_count": 60,
   "metadata": {},
   "outputs": [
    {
     "data": {
      "text/plain": [
       "4.63"
      ]
     },
     "execution_count": 60,
     "metadata": {},
     "output_type": "execute_result"
    }
   ],
   "source": [
    "min(dfFlow['y (in)'].min(),D/5)"
   ]
  },
  {
   "cell_type": "code",
   "execution_count": 79,
   "metadata": {},
   "outputs": [],
   "source": [
    "from scipy.optimize import least_squares\n",
    "\n",
    "def gen_data(a, x):\n",
    "    return(a * x)\n",
    "\n",
    "def fun(params, x, y):\n",
    "    return(params[0] * x - y)\n",
    "\n",
    "def hydraulicRadius(d, ddog, D):\n",
    "    de = d - ddog\n",
    "    th = 2 * np.arccos(1 - (2 * de / D))\n",
    "    if any(np.isnan(th)):\n",
    "        th = th[~np.isnan(th)]\n",
    "    P = D * th / 2\n",
    "    Ae = (D**2 / 8) * (th - np.sin(th))\n",
    "    return(Ae, P)\n",
    "\n",
    "        \n",
    "a = []\n",
    "r2 = []\n",
    "dogMax = min(0.99 * dfFlow['y (in)'].min(),D/5)\n",
    "ddogList = np.linspace(0, dogMax, 100)\n",
    "for i, ddog in enumerate(ddogList):\n",
    "    d = dfFlow['y (in)'].values\n",
    "    v = dfFlow['v (ft/s)'].values\n",
    "    de = d - ddog\n",
    "    if any(de/D > 1):\n",
    "        v = v[de/D <= 1]\n",
    "        de = de[de/D <= 1]        \n",
    "    Ae, P = hydraulicRadius(de, 0, D)\n",
    "    Rss = Ae / P\n",
    "    res_lsq = least_squares(fun, -1, args = (Rss ** (2/3), v))\n",
    "    a.append(res_lsq.x[0])\n",
    "    r2.append(rsquare(\n",
    "        y = v,\n",
    "        f = gen_data(a[-1], x = Rss ** (2/3))))"
   ]
  },
  {
   "cell_type": "code",
   "execution_count": 76,
   "metadata": {},
   "outputs": [
    {
     "data": {
      "text/plain": [
       "[<matplotlib.lines.Line2D at 0x13167320>]"
      ]
     },
     "execution_count": 76,
     "metadata": {},
     "output_type": "execute_result"
    },
    {
     "data": {
      "image/png": "[encoded data removed]",
      "text/plain": [
       "<Figure size 432x288 with 1 Axes>"
      ]
     },
     "metadata": {
      "needs_background": "light"
     },
     "output_type": "display_data"
    }
   ],
   "source": [
    "import matplotlib.pyplot as plt\n",
    "plt.show()\n",
    "fig, ax = plt.subplots()\n",
    "\n",
    "ax.plot(ddogList, r2)"
   ]
  },
  {
   "cell_type": "code",
   "execution_count": 71,
   "metadata": {},
   "outputs": [],
   "source": [
    "def maxAndIndex(mylist):\n",
    "    import operator\n",
    "    index, value = max(enumerate(mylist), key=operator.itemgetter(1))\n",
    "    return(index, value)"
   ]
  },
  {
   "cell_type": "code",
   "execution_count": 89,
   "metadata": {},
   "outputs": [
    {
     "data": {
      "text/plain": [
       "[<matplotlib.lines.Line2D at 0x12065ba8>]"
      ]
     },
     "execution_count": 89,
     "metadata": {},
     "output_type": "execute_result"
    },
    {
     "data": {
      "image/png": "[encoded data removed]",
      "text/plain": [
       "<Figure size 432x288 with 1 Axes>"
      ]
     },
     "metadata": {
      "needs_background": "light"
     },
     "output_type": "display_data"
    }
   ],
   "source": [
    "fig, ax = plt.subplots()\n",
    "\n",
    "ax.scatter(dfFlow['y (in)'].values, \n",
    "           dfFlow['v (ft/s)'].values, \n",
    "           marker = 'o')\n",
    "\n",
    "r2MaxIndx, r2Max = maxAndIndex(r2)\n",
    "ddog = ddogList[r2MaxIndx]\n",
    "d = np.linspace(dfFlow['y (in)'].min(), dfFlow['y (in)'].max(), 50)\n",
    "\n",
    "Ae , P = hydraulicRadius(d, ddog, D)\n",
    "\n",
    "ax.plot(d + ddog, \n",
    "        gen_data(a = a[0], x = (Ae/P) ** (2/3)),\n",
    "       color = 'red')"
   ]
  },
  {
   "cell_type": "code",
   "execution_count": 20,
   "metadata": {},
   "outputs": [
    {
     "data": {
      "text/plain": [
       "array([0.        , 0.0969697 , 0.19393939, 0.29090909, 0.38787879,\n",
       "       0.48484848, 0.58181818, 0.67878788, 0.77575758, 0.87272727,\n",
       "       0.96969697, 1.06666667, 1.16363636, 1.26060606, 1.35757576,\n",
       "       1.45454545, 1.55151515, 1.64848485, 1.74545455, 1.84242424,\n",
       "       1.93939394, 2.03636364, 2.13333333, 2.23030303, 2.32727273,\n",
       "       2.42424242, 2.52121212, 2.61818182, 2.71515152, 2.81212121,\n",
       "       2.90909091, 3.00606061, 3.1030303 , 3.2       , 3.2969697 ,\n",
       "       3.39393939, 3.49090909, 3.58787879, 3.68484848, 3.78181818,\n",
       "       3.87878788, 3.97575758, 4.07272727, 4.16969697, 4.26666667,\n",
       "       4.36363636, 4.46060606, 4.55757576, 4.65454545, 4.75151515,\n",
       "       4.84848485, 4.94545455, 5.04242424, 5.13939394, 5.23636364,\n",
       "       5.33333333, 5.43030303, 5.52727273, 5.62424242, 5.72121212,\n",
       "       5.81818182, 5.91515152, 6.01212121, 6.10909091, 6.20606061,\n",
       "       6.3030303 , 6.4       , 6.4969697 , 6.59393939, 6.69090909,\n",
       "       6.78787879, 6.88484848, 6.98181818, 7.07878788, 7.17575758,\n",
       "       7.27272727, 7.36969697, 7.46666667, 7.56363636, 7.66060606,\n",
       "       7.75757576, 7.85454545, 7.95151515, 8.04848485, 8.14545455,\n",
       "       8.24242424, 8.33939394, 8.43636364, 8.53333333, 8.63030303,\n",
       "       8.72727273, 8.82424242, 8.92121212, 9.01818182, 9.11515152,\n",
       "       9.21212121, 9.30909091, 9.40606061, 9.5030303 , 9.6       ])"
      ]
     },
     "execution_count": 20,
     "metadata": {},
     "output_type": "execute_result"
    }
   ],
   "source": [
    "ddogList"
   ]
  },
  {
   "cell_type": "code",
   "execution_count": 31,
   "metadata": {},
   "outputs": [
    {
     "data": {
      "text/plain": [
       "array([ True, False, False, False, False, False, False, False, False,\n",
       "       False, False, False, False, False, False, False, False, False,\n",
       "       False, False, False, False, False, False, False, False, False,\n",
       "       False, False, False, False, False, False, False, False, False,\n",
       "       False, False, False, False, False, False, False, False, False,\n",
       "       False, False, False, False, False, False, False, False, False,\n",
       "       False, False, False, False, False, False, False, False, False,\n",
       "       False, False, False, False, False, False, False, False, False,\n",
       "       False, False, False, False, False, False, False, False, False,\n",
       "       False, False, False, False, False, False, False, False, False,\n",
       "       False, False, False, False, False, False, False, False, False,\n",
       "       False])"
      ]
     },
     "execution_count": 31,
     "metadata": {},
     "output_type": "execute_result"
    }
   ],
   "source": []
  },
  {
   "cell_type": "code",
   "execution_count": null,
   "metadata": {},
   "outputs": [],
   "source": []
  }
 ],
 "metadata": {
  "kernelspec": {
   "display_name": "Python 3",
   "language": "python",
   "name": "python3"
  },
  "language_info": {
   "codemirror_mode": {
    "name": "ipython",
    "version": 3
   },
   "file_extension": ".py",
   "mimetype": "text/x-python",
   "name": "python",
   "nbconvert_exporter": "python",
   "pygments_lexer": "ipython3",
   "version": "3.7.3"
  }
 },
 "nbformat": 4,
 "nbformat_minor": 2
}
